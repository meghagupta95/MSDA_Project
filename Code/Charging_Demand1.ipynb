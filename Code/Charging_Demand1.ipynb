{
  "nbformat": 4,
  "nbformat_minor": 0,
  "metadata": {
    "colab": {
      "provenance": []
    },
    "kernelspec": {
      "name": "python3",
      "display_name": "Python 3"
    },
    "language_info": {
      "name": "python"
    }
  },
  "cells": [
    {
      "cell_type": "code",
      "execution_count": null,
      "metadata": {
        "id": "b6kWPAEK8zyX"
      },
      "outputs": [],
      "source": [
        "import pandas as pd\n",
        "import numpy as np\n"
      ]
    },
    {
      "cell_type": "code",
      "source": [
        "data=pd.read_csv('PaloAltoev.csv')"
      ],
      "metadata": {
        "id": "0_h-CRlS9R4L"
      },
      "execution_count": null,
      "outputs": []
    },
    {
      "cell_type": "code",
      "source": [
        "data.head()"
      ],
      "metadata": {
        "colab": {
          "base_uri": "https://localhost:8080/",
          "height": 612
        },
        "id": "G4g4mM9j9VAI",
        "outputId": "425d966a-80e9-468d-8aba-f93ce831dddf"
      },
      "execution_count": null,
      "outputs": [
        {
          "output_type": "execute_result",
          "data": {
            "text/plain": [
              "                 Station Name          MAC Address           Org Name  \\\n",
              "0  PALO ALTO CA / HAMILTON #1  000D:6F00:015A:9D76  City of Palo Alto   \n",
              "1  PALO ALTO CA / HAMILTON #1  000D:6F00:015A:9D76  City of Palo Alto   \n",
              "2  PALO ALTO CA / HAMILTON #1  000D:6F00:015A:9D76  City of Palo Alto   \n",
              "3  PALO ALTO CA / HAMILTON #1  000D:6F00:015A:9D76  City of Palo Alto   \n",
              "4  PALO ALTO CA / HAMILTON #1  000D:6F00:015A:9D76  City of Palo Alto   \n",
              "\n",
              "        Start Date Start Time Zone         End Date End Time Zone  \\\n",
              "0  7/29/2011 20:17             PDT  7/29/2011 23:20           PDT   \n",
              "1   7/30/2011 0:00             PDT   7/30/2011 0:02           PDT   \n",
              "2   7/30/2011 8:16             PDT  7/30/2011 12:34           PDT   \n",
              "3  7/30/2011 14:51             PDT  7/30/2011 16:55           PDT   \n",
              "4  7/30/2011 18:51             PDT  7/30/2011 20:03           PDT   \n",
              "\n",
              "  Transaction Date (Pacific Time) Total Duration (hh:mm:ss)  \\\n",
              "0                 7/29/2011 23:20                   3:03:32   \n",
              "1                  7/30/2011 0:02                   0:02:06   \n",
              "2                 7/30/2011 12:34                   4:17:32   \n",
              "3                 7/30/2011 16:55                   2:03:24   \n",
              "4                 7/30/2011 20:03                   1:11:24   \n",
              "\n",
              "  Charging Time (hh:mm:ss)  ...   Longitude  Currency  Fee  \\\n",
              "0                  1:54:03  ... -122.160309       USD    0   \n",
              "1                  0:01:54  ... -122.160309       USD    0   \n",
              "2                  4:17:28  ... -122.160309       USD    0   \n",
              "3                  2:02:58  ... -122.160309       USD    0   \n",
              "4                  0:43:54  ... -122.160309       USD    0   \n",
              "\n",
              "              Ended By  Plug In Event Id Driver Postal Code  User ID County  \\\n",
              "0  Plug Out at Vehicle                 3            95124.0   3284.0    NaN   \n",
              "1             Customer                 4            94301.0   4169.0    NaN   \n",
              "2  Plug Out at Vehicle                 5            94301.0   4169.0    NaN   \n",
              "3             Customer                 6            94302.0   2545.0    NaN   \n",
              "4  Plug Out at Vehicle                 7            94043.0   3765.0    NaN   \n",
              "\n",
              "  System S/N Model Number  \n",
              "0        NaN          NaN  \n",
              "1        NaN          NaN  \n",
              "2        NaN          NaN  \n",
              "3        NaN          NaN  \n",
              "4        NaN          NaN  \n",
              "\n",
              "[5 rows x 33 columns]"
            ],
            "text/html": [
              "\n",
              "  <div id=\"df-1369e4b8-c478-4744-b1fb-0a3a2eaab8f0\">\n",
              "    <div class=\"colab-df-container\">\n",
              "      <div>\n",
              "<style scoped>\n",
              "    .dataframe tbody tr th:only-of-type {\n",
              "        vertical-align: middle;\n",
              "    }\n",
              "\n",
              "    .dataframe tbody tr th {\n",
              "        vertical-align: top;\n",
              "    }\n",
              "\n",
              "    .dataframe thead th {\n",
              "        text-align: right;\n",
              "    }\n",
              "</style>\n",
              "<table border=\"1\" class=\"dataframe\">\n",
              "  <thead>\n",
              "    <tr style=\"text-align: right;\">\n",
              "      <th></th>\n",
              "      <th>Station Name</th>\n",
              "      <th>MAC Address</th>\n",
              "      <th>Org Name</th>\n",
              "      <th>Start Date</th>\n",
              "      <th>Start Time Zone</th>\n",
              "      <th>End Date</th>\n",
              "      <th>End Time Zone</th>\n",
              "      <th>Transaction Date (Pacific Time)</th>\n",
              "      <th>Total Duration (hh:mm:ss)</th>\n",
              "      <th>Charging Time (hh:mm:ss)</th>\n",
              "      <th>...</th>\n",
              "      <th>Longitude</th>\n",
              "      <th>Currency</th>\n",
              "      <th>Fee</th>\n",
              "      <th>Ended By</th>\n",
              "      <th>Plug In Event Id</th>\n",
              "      <th>Driver Postal Code</th>\n",
              "      <th>User ID</th>\n",
              "      <th>County</th>\n",
              "      <th>System S/N</th>\n",
              "      <th>Model Number</th>\n",
              "    </tr>\n",
              "  </thead>\n",
              "  <tbody>\n",
              "    <tr>\n",
              "      <th>0</th>\n",
              "      <td>PALO ALTO CA / HAMILTON #1</td>\n",
              "      <td>000D:6F00:015A:9D76</td>\n",
              "      <td>City of Palo Alto</td>\n",
              "      <td>7/29/2011 20:17</td>\n",
              "      <td>PDT</td>\n",
              "      <td>7/29/2011 23:20</td>\n",
              "      <td>PDT</td>\n",
              "      <td>7/29/2011 23:20</td>\n",
              "      <td>3:03:32</td>\n",
              "      <td>1:54:03</td>\n",
              "      <td>...</td>\n",
              "      <td>-122.160309</td>\n",
              "      <td>USD</td>\n",
              "      <td>0</td>\n",
              "      <td>Plug Out at Vehicle</td>\n",
              "      <td>3</td>\n",
              "      <td>95124.0</td>\n",
              "      <td>3284.0</td>\n",
              "      <td>NaN</td>\n",
              "      <td>NaN</td>\n",
              "      <td>NaN</td>\n",
              "    </tr>\n",
              "    <tr>\n",
              "      <th>1</th>\n",
              "      <td>PALO ALTO CA / HAMILTON #1</td>\n",
              "      <td>000D:6F00:015A:9D76</td>\n",
              "      <td>City of Palo Alto</td>\n",
              "      <td>7/30/2011 0:00</td>\n",
              "      <td>PDT</td>\n",
              "      <td>7/30/2011 0:02</td>\n",
              "      <td>PDT</td>\n",
              "      <td>7/30/2011 0:02</td>\n",
              "      <td>0:02:06</td>\n",
              "      <td>0:01:54</td>\n",
              "      <td>...</td>\n",
              "      <td>-122.160309</td>\n",
              "      <td>USD</td>\n",
              "      <td>0</td>\n",
              "      <td>Customer</td>\n",
              "      <td>4</td>\n",
              "      <td>94301.0</td>\n",
              "      <td>4169.0</td>\n",
              "      <td>NaN</td>\n",
              "      <td>NaN</td>\n",
              "      <td>NaN</td>\n",
              "    </tr>\n",
              "    <tr>\n",
              "      <th>2</th>\n",
              "      <td>PALO ALTO CA / HAMILTON #1</td>\n",
              "      <td>000D:6F00:015A:9D76</td>\n",
              "      <td>City of Palo Alto</td>\n",
              "      <td>7/30/2011 8:16</td>\n",
              "      <td>PDT</td>\n",
              "      <td>7/30/2011 12:34</td>\n",
              "      <td>PDT</td>\n",
              "      <td>7/30/2011 12:34</td>\n",
              "      <td>4:17:32</td>\n",
              "      <td>4:17:28</td>\n",
              "      <td>...</td>\n",
              "      <td>-122.160309</td>\n",
              "      <td>USD</td>\n",
              "      <td>0</td>\n",
              "      <td>Plug Out at Vehicle</td>\n",
              "      <td>5</td>\n",
              "      <td>94301.0</td>\n",
              "      <td>4169.0</td>\n",
              "      <td>NaN</td>\n",
              "      <td>NaN</td>\n",
              "      <td>NaN</td>\n",
              "    </tr>\n",
              "    <tr>\n",
              "      <th>3</th>\n",
              "      <td>PALO ALTO CA / HAMILTON #1</td>\n",
              "      <td>000D:6F00:015A:9D76</td>\n",
              "      <td>City of Palo Alto</td>\n",
              "      <td>7/30/2011 14:51</td>\n",
              "      <td>PDT</td>\n",
              "      <td>7/30/2011 16:55</td>\n",
              "      <td>PDT</td>\n",
              "      <td>7/30/2011 16:55</td>\n",
              "      <td>2:03:24</td>\n",
              "      <td>2:02:58</td>\n",
              "      <td>...</td>\n",
              "      <td>-122.160309</td>\n",
              "      <td>USD</td>\n",
              "      <td>0</td>\n",
              "      <td>Customer</td>\n",
              "      <td>6</td>\n",
              "      <td>94302.0</td>\n",
              "      <td>2545.0</td>\n",
              "      <td>NaN</td>\n",
              "      <td>NaN</td>\n",
              "      <td>NaN</td>\n",
              "    </tr>\n",
              "    <tr>\n",
              "      <th>4</th>\n",
              "      <td>PALO ALTO CA / HAMILTON #1</td>\n",
              "      <td>000D:6F00:015A:9D76</td>\n",
              "      <td>City of Palo Alto</td>\n",
              "      <td>7/30/2011 18:51</td>\n",
              "      <td>PDT</td>\n",
              "      <td>7/30/2011 20:03</td>\n",
              "      <td>PDT</td>\n",
              "      <td>7/30/2011 20:03</td>\n",
              "      <td>1:11:24</td>\n",
              "      <td>0:43:54</td>\n",
              "      <td>...</td>\n",
              "      <td>-122.160309</td>\n",
              "      <td>USD</td>\n",
              "      <td>0</td>\n",
              "      <td>Plug Out at Vehicle</td>\n",
              "      <td>7</td>\n",
              "      <td>94043.0</td>\n",
              "      <td>3765.0</td>\n",
              "      <td>NaN</td>\n",
              "      <td>NaN</td>\n",
              "      <td>NaN</td>\n",
              "    </tr>\n",
              "  </tbody>\n",
              "</table>\n",
              "<p>5 rows × 33 columns</p>\n",
              "</div>\n",
              "      <button class=\"colab-df-convert\" onclick=\"convertToInteractive('df-1369e4b8-c478-4744-b1fb-0a3a2eaab8f0')\"\n",
              "              title=\"Convert this dataframe to an interactive table.\"\n",
              "              style=\"display:none;\">\n",
              "        \n",
              "  <svg xmlns=\"http://www.w3.org/2000/svg\" height=\"24px\"viewBox=\"0 0 24 24\"\n",
              "       width=\"24px\">\n",
              "    <path d=\"M0 0h24v24H0V0z\" fill=\"none\"/>\n",
              "    <path d=\"M18.56 5.44l.94 2.06.94-2.06 2.06-.94-2.06-.94-.94-2.06-.94 2.06-2.06.94zm-11 1L8.5 8.5l.94-2.06 2.06-.94-2.06-.94L8.5 2.5l-.94 2.06-2.06.94zm10 10l.94 2.06.94-2.06 2.06-.94-2.06-.94-.94-2.06-.94 2.06-2.06.94z\"/><path d=\"M17.41 7.96l-1.37-1.37c-.4-.4-.92-.59-1.43-.59-.52 0-1.04.2-1.43.59L10.3 9.45l-7.72 7.72c-.78.78-.78 2.05 0 2.83L4 21.41c.39.39.9.59 1.41.59.51 0 1.02-.2 1.41-.59l7.78-7.78 2.81-2.81c.8-.78.8-2.07 0-2.86zM5.41 20L4 18.59l7.72-7.72 1.47 1.35L5.41 20z\"/>\n",
              "  </svg>\n",
              "      </button>\n",
              "      \n",
              "  <style>\n",
              "    .colab-df-container {\n",
              "      display:flex;\n",
              "      flex-wrap:wrap;\n",
              "      gap: 12px;\n",
              "    }\n",
              "\n",
              "    .colab-df-convert {\n",
              "      background-color: #E8F0FE;\n",
              "      border: none;\n",
              "      border-radius: 50%;\n",
              "      cursor: pointer;\n",
              "      display: none;\n",
              "      fill: #1967D2;\n",
              "      height: 32px;\n",
              "      padding: 0 0 0 0;\n",
              "      width: 32px;\n",
              "    }\n",
              "\n",
              "    .colab-df-convert:hover {\n",
              "      background-color: #E2EBFA;\n",
              "      box-shadow: 0px 1px 2px rgba(60, 64, 67, 0.3), 0px 1px 3px 1px rgba(60, 64, 67, 0.15);\n",
              "      fill: #174EA6;\n",
              "    }\n",
              "\n",
              "    [theme=dark] .colab-df-convert {\n",
              "      background-color: #3B4455;\n",
              "      fill: #D2E3FC;\n",
              "    }\n",
              "\n",
              "    [theme=dark] .colab-df-convert:hover {\n",
              "      background-color: #434B5C;\n",
              "      box-shadow: 0px 1px 3px 1px rgba(0, 0, 0, 0.15);\n",
              "      filter: drop-shadow(0px 1px 2px rgba(0, 0, 0, 0.3));\n",
              "      fill: #FFFFFF;\n",
              "    }\n",
              "  </style>\n",
              "\n",
              "      <script>\n",
              "        const buttonEl =\n",
              "          document.querySelector('#df-1369e4b8-c478-4744-b1fb-0a3a2eaab8f0 button.colab-df-convert');\n",
              "        buttonEl.style.display =\n",
              "          google.colab.kernel.accessAllowed ? 'block' : 'none';\n",
              "\n",
              "        async function convertToInteractive(key) {\n",
              "          const element = document.querySelector('#df-1369e4b8-c478-4744-b1fb-0a3a2eaab8f0');\n",
              "          const dataTable =\n",
              "            await google.colab.kernel.invokeFunction('convertToInteractive',\n",
              "                                                     [key], {});\n",
              "          if (!dataTable) return;\n",
              "\n",
              "          const docLinkHtml = 'Like what you see? Visit the ' +\n",
              "            '<a target=\"_blank\" href=https://colab.research.google.com/notebooks/data_table.ipynb>data table notebook</a>'\n",
              "            + ' to learn more about interactive tables.';\n",
              "          element.innerHTML = '';\n",
              "          dataTable['output_type'] = 'display_data';\n",
              "          await google.colab.output.renderOutput(dataTable, element);\n",
              "          const docLink = document.createElement('div');\n",
              "          docLink.innerHTML = docLinkHtml;\n",
              "          element.appendChild(docLink);\n",
              "        }\n",
              "      </script>\n",
              "    </div>\n",
              "  </div>\n",
              "  "
            ]
          },
          "metadata": {},
          "execution_count": 3
        }
      ]
    },
    {
      "cell_type": "code",
      "source": [
        "data.columns"
      ],
      "metadata": {
        "colab": {
          "base_uri": "https://localhost:8080/"
        },
        "id": "sRHUlZm99YnI",
        "outputId": "fa0526a1-5a53-4e1c-b071-491d1c8968be"
      },
      "execution_count": null,
      "outputs": [
        {
          "output_type": "execute_result",
          "data": {
            "text/plain": [
              "Index(['Station Name', 'MAC Address', 'Org Name', 'Start Date',\n",
              "       'Start Time Zone', 'End Date', 'End Time Zone',\n",
              "       'Transaction Date (Pacific Time)', 'Total Duration (hh:mm:ss)',\n",
              "       'Charging Time (hh:mm:ss)', 'Energy (kWh)', 'GHG Savings (kg)',\n",
              "       'Gasoline Savings (gallons)', 'Port Type', 'Port Number', 'Plug Type',\n",
              "       'EVSE ID', 'Address 1', 'City', 'State/Province', 'Postal Code',\n",
              "       'Country', 'Latitude', 'Longitude', 'Currency', 'Fee', 'Ended By',\n",
              "       'Plug In Event Id', 'Driver Postal Code', 'User ID', 'County',\n",
              "       'System S/N', 'Model Number'],\n",
              "      dtype='object')"
            ]
          },
          "metadata": {},
          "execution_count": 4
        }
      ]
    },
    {
      "cell_type": "code",
      "source": [
        "data.columns=data.columns.str.replace(' ','_')"
      ],
      "metadata": {
        "id": "yUpJL9PN9Zxj"
      },
      "execution_count": null,
      "outputs": []
    },
    {
      "cell_type": "code",
      "source": [
        "data.isna().sum()"
      ],
      "metadata": {
        "colab": {
          "base_uri": "https://localhost:8080/"
        },
        "id": "LEP11vBu9nTC",
        "outputId": "10f986f4-6809-459c-e0b2-fa74a97602b0"
      },
      "execution_count": null,
      "outputs": [
        {
          "output_type": "execute_result",
          "data": {
            "text/plain": [
              "Station_Name                          0\n",
              "MAC_Address                           0\n",
              "Org_Name                              0\n",
              "Start_Date                            0\n",
              "Start_Time_Zone                       0\n",
              "End_Date                              0\n",
              "End_Time_Zone                         0\n",
              "Transaction_Date_(Pacific_Time)       0\n",
              "Total_Duration_(hh:mm:ss)             0\n",
              "Charging_Time_(hh:mm:ss)              0\n",
              "Energy_(kWh)                          0\n",
              "GHG_Savings_(kg)                      0\n",
              "Gasoline_Savings_(gallons)            0\n",
              "Port_Type                             0\n",
              "Port_Number                           0\n",
              "Plug_Type                             0\n",
              "EVSE_ID                            9999\n",
              "Address_1                             0\n",
              "City                                  0\n",
              "State/Province                        0\n",
              "Postal_Code                           0\n",
              "Country                               0\n",
              "Latitude                              0\n",
              "Longitude                             0\n",
              "Currency                           1500\n",
              "Fee                                   0\n",
              "Ended_By                             23\n",
              "Plug_In_Event_Id                      0\n",
              "Driver_Postal_Code                  585\n",
              "User_ID                             179\n",
              "County                             9999\n",
              "System_S/N                         9999\n",
              "Model_Number                       9999\n",
              "dtype: int64"
            ]
          },
          "metadata": {},
          "execution_count": 6
        }
      ]
    },
    {
      "cell_type": "code",
      "source": [
        "data.shape"
      ],
      "metadata": {
        "colab": {
          "base_uri": "https://localhost:8080/"
        },
        "id": "WAp579wD9oc1",
        "outputId": "ccdbadfd-f444-4a09-8434-50c665fd6dd4"
      },
      "execution_count": null,
      "outputs": [
        {
          "output_type": "execute_result",
          "data": {
            "text/plain": [
              "(9999, 33)"
            ]
          },
          "metadata": {},
          "execution_count": 7
        }
      ]
    },
    {
      "cell_type": "code",
      "source": [
        "list_null_cols= []\n",
        "for i in data.columns:\n",
        "    if data[i].isna().sum() == data.shape[0]:\n",
        "        list_null_cols.append(i)"
      ],
      "metadata": {
        "id": "AvB8TjrQAEUG"
      },
      "execution_count": null,
      "outputs": []
    },
    {
      "cell_type": "code",
      "source": [
        "list_null_cols"
      ],
      "metadata": {
        "colab": {
          "base_uri": "https://localhost:8080/"
        },
        "id": "57SZuXCxAOx4",
        "outputId": "13cbf760-1979-4510-d537-1f07f4cb2b0a"
      },
      "execution_count": null,
      "outputs": [
        {
          "output_type": "execute_result",
          "data": {
            "text/plain": [
              "['EVSE_ID', 'County', 'System_S/N', 'Model_Number']"
            ]
          },
          "metadata": {},
          "execution_count": 9
        }
      ]
    },
    {
      "cell_type": "code",
      "source": [
        "list_single_cols = []\n",
        "for i in data.columns:\n",
        "    if data[i].nunique() == 1:\n",
        "        list_single_cols.append(i)"
      ],
      "metadata": {
        "id": "PurNa6hQ-HU2"
      },
      "execution_count": null,
      "outputs": []
    },
    {
      "cell_type": "code",
      "source": [
        "list_single_cols"
      ],
      "metadata": {
        "colab": {
          "base_uri": "https://localhost:8080/"
        },
        "id": "5wn2N08Q_rfa",
        "outputId": "8442a248-ec6a-462c-e114-ea9162a661fe"
      },
      "execution_count": null,
      "outputs": [
        {
          "output_type": "execute_result",
          "data": {
            "text/plain": [
              "['Org_Name',\n",
              " 'City',\n",
              " 'State/Province',\n",
              " 'Postal_Code',\n",
              " 'Country',\n",
              " 'Currency',\n",
              " 'Fee']"
            ]
          },
          "metadata": {},
          "execution_count": 11
        }
      ]
    },
    {
      "cell_type": "code",
      "source": [
        "data.drop(list_single_cols+list_null_cols,axis=1,inplace=True)"
      ],
      "metadata": {
        "id": "fyTH9kZs_fnD"
      },
      "execution_count": null,
      "outputs": []
    },
    {
      "cell_type": "code",
      "source": [
        "data.columns"
      ],
      "metadata": {
        "colab": {
          "base_uri": "https://localhost:8080/"
        },
        "id": "cM791I4w_pcW",
        "outputId": "a1ea4444-ae53-4ae6-a478-9122fe38f256"
      },
      "execution_count": null,
      "outputs": [
        {
          "output_type": "execute_result",
          "data": {
            "text/plain": [
              "Index(['Station_Name', 'MAC_Address', 'Start_Date', 'Start_Time_Zone',\n",
              "       'End_Date', 'End_Time_Zone', 'Transaction_Date_(Pacific_Time)',\n",
              "       'Total_Duration_(hh:mm:ss)', 'Charging_Time_(hh:mm:ss)', 'Energy_(kWh)',\n",
              "       'GHG_Savings_(kg)', 'Gasoline_Savings_(gallons)', 'Port_Type',\n",
              "       'Port_Number', 'Plug_Type', 'Address_1', 'Latitude', 'Longitude',\n",
              "       'Ended_By', 'Plug_In_Event_Id', 'Driver_Postal_Code', 'User_ID'],\n",
              "      dtype='object')"
            ]
          },
          "metadata": {},
          "execution_count": 13
        }
      ]
    },
    {
      "cell_type": "code",
      "source": [
        "import pandas as pd\n",
        "import numpy as np\n",
        "from sklearn.model_selection import train_test_split, GridSearchCV\n",
        "from sklearn.linear_model import LinearRegression\n",
        "from sklearn.tree import DecisionTreeRegressor\n",
        "from sklearn.ensemble import RandomForestRegressor, GradientBoostingRegressor\n",
        "from sklearn.metrics import mean_absolute_error, mean_squared_error, r2_score\n",
        "\n",
        "# Feature engineering\n",
        "data['Transaction_Date'] = pd.to_datetime(data['Transaction_Date_(Pacific_Time)'])\n",
        "data['transaction_time'] = data['Transaction_Date'].apply(lambda x: x.timestamp())\n",
        "data['hour'] = data['Transaction_Date'].dt.hour\n",
        "data['dayofweek'] = data['Transaction_Date'].dt.dayofweek\n",
        "data['month'] = data['Transaction_Date'].dt.month\n",
        "data['season'] = (data['Transaction_Date'].dt.month % 12 + 3)//3\n",
        "data['is_weekend'] = np.where(data['dayofweek'] >= 5, 1, 0)"
      ],
      "metadata": {
        "id": "at9WJoVmBQGY"
      },
      "execution_count": null,
      "outputs": []
    },
    {
      "cell_type": "code",
      "source": [
        "# Data preprocessing\n",
        "data = data.drop(columns=[ 'MAC_Address', 'Start_Date', 'Start_Time_Zone', \n",
        "                          'End_Date', 'End_Time_Zone', 'Transaction_Date_(Pacific_Time)', \n",
        "                          'GHG_Savings_(kg)', 'Gasoline_Savings_(gallons)', 'Port_Type', \n",
        "                          'Plug_Type' , 'Address_1', \n",
        "                          'Ended_By', 'Plug_In_Event_Id', 'Driver_Postal_Code', 'User_ID'])\n",
        "data['Total_Duration_(hh:mm:ss)'] = pd.to_timedelta(data['Total_Duration_(hh:mm:ss)']).dt.total_seconds()\n",
        "data['Charging_Time_(hh:mm:ss)'] = pd.to_timedelta(data['Charging_Time_(hh:mm:ss)']).dt.total_seconds()\n",
        "data['Energy_(kWh)'] = pd.to_numeric(data['Energy_(kWh)'])\n"
      ],
      "metadata": {
        "id": "4_c8aa67dAJ8"
      },
      "execution_count": null,
      "outputs": []
    },
    {
      "cell_type": "code",
      "source": [
        "data.columns"
      ],
      "metadata": {
        "colab": {
          "base_uri": "https://localhost:8080/"
        },
        "id": "NJkoqsj8dD_X",
        "outputId": "b51d70a7-3797-4786-885c-cd569c301eb4"
      },
      "execution_count": null,
      "outputs": [
        {
          "output_type": "execute_result",
          "data": {
            "text/plain": [
              "Index(['Station_Name', 'Total_Duration_(hh:mm:ss)', 'Charging_Time_(hh:mm:ss)',\n",
              "       'Energy_(kWh)', 'Port_Number', 'Latitude', 'Longitude',\n",
              "       'Transaction_Date', 'transaction_time', 'hour', 'dayofweek', 'month',\n",
              "       'season', 'is_weekend'],\n",
              "      dtype='object')"
            ]
          },
          "metadata": {},
          "execution_count": 16
        }
      ]
    },
    {
      "cell_type": "code",
      "source": [
        "# Data split\n",
        "X = data.drop(columns=['Energy_(kWh)','Transaction_Date','Total_Duration_(hh:mm:ss)'])\n",
        "y = data['Energy_(kWh)']\n",
        "X.columns"
      ],
      "metadata": {
        "colab": {
          "base_uri": "https://localhost:8080/"
        },
        "id": "EtcLJexWdFy1",
        "outputId": "547986cb-4cf1-4a54-92b7-9e1b53d08ef4"
      },
      "execution_count": null,
      "outputs": [
        {
          "output_type": "execute_result",
          "data": {
            "text/plain": [
              "Index(['Station_Name', 'Charging_Time_(hh:mm:ss)', 'Port_Number', 'Latitude',\n",
              "       'Longitude', 'transaction_time', 'hour', 'dayofweek', 'month', 'season',\n",
              "       'is_weekend'],\n",
              "      dtype='object')"
            ]
          },
          "metadata": {},
          "execution_count": 17
        }
      ]
    },
    {
      "cell_type": "code",
      "source": [
        "# Define the train-test split ratio\n",
        "train_ratio = 0.8\n",
        "train_size = int(len(X) * train_ratio)\n",
        "\n",
        "# Split the data into training and testing sets\n",
        "X_train, X_test = X[:train_size], X[train_size:]\n",
        "y_train, y_test = y[:train_size], y[train_size:]\n",
        "\n",
        "# Import the OneHotEncoder class\n",
        "from sklearn.preprocessing import OneHotEncoder\n",
        "\n",
        "# Create an instance of the OneHotEncoder\n",
        "encoder = OneHotEncoder(handle_unknown='ignore')\n",
        "\n",
        "# Fit the encoder on the 'Plug_Type' column\n",
        "encoder.fit(X_train[['Station_Name']])\n",
        "\n",
        "# Transform the 'Plug_Type' column using the encoder\n",
        "X_train_encoded = pd.DataFrame(encoder.transform(X_train[['Station_Name']]).toarray(), columns=encoder.get_feature_names_out(['Station_Name']))\n",
        "X_train_encoded.index = X_train.index\n",
        "\n",
        "# Concatenate the encoded 'Plug_Type' column with the rest of the X_train data\n",
        "X_train = pd.concat([X_train.drop(columns=['Station_Name']), X_train_encoded], axis=1)\n",
        "\n",
        "# Repeat the same process for X_test\n",
        "X_test_encoded = pd.DataFrame(encoder.transform(X_test[['Station_Name']]).toarray(), columns=encoder.get_feature_names_out(['Station_Name']))\n",
        "X_test_encoded.index = X_test.index\n",
        "X_test = pd.concat([X_test.drop(columns=['Station_Name']), X_test_encoded], axis=1)\n"
      ],
      "metadata": {
        "id": "l0eqkz7eQzUE"
      },
      "execution_count": null,
      "outputs": []
    },
    {
      "cell_type": "code",
      "source": [
        "# # Model selection and training\n",
        "# models = {'Random Forest Regression': RandomForestRegressor(random_state=42)}\n",
        "# for name, model in models.items():\n",
        "#     model.fit(X_train, y_train)\n",
        "#     y_pred = model.predict(X_test)\n",
        "#     print(f\"{name} - MAE: {mean_absolute_error(y_test, y_pred)}, MSE: {mean_squared_error(y_test, y_pred)}, R2: {r2_score(y_test, y_pred)}\")\n",
        "\n",
        "# y_pred = model.predict(X_test)"
      ],
      "metadata": {
        "id": "O9eOcqhTTaWg"
      },
      "execution_count": null,
      "outputs": []
    },
    {
      "cell_type": "code",
      "source": [
        "model=RandomForestRegressor(random_state=42)"
      ],
      "metadata": {
        "id": "0_oGF6PBgWGm"
      },
      "execution_count": null,
      "outputs": []
    },
    {
      "cell_type": "code",
      "source": [
        "from sklearn.metrics import mean_absolute_error, mean_squared_error, r2_score\n",
        "import numpy as np\n",
        "\n",
        "model.fit(X_train, y_train)\n",
        "y_pred = model.predict(X_test)\n",
        "\n",
        "mae = mean_absolute_error(y_test, y_pred)\n",
        "mse = mean_squared_error(y_test, y_pred)\n",
        "rmse = np.sqrt(mse)\n",
        "r2 = r2_score(y_test, y_pred)\n",
        "\n",
        "print(f\"MAE: {mae}, MSE: {mse}, RMSE: {rmse}, R2: {r2}\")\n"
      ],
      "metadata": {
        "colab": {
          "base_uri": "https://localhost:8080/"
        },
        "id": "MaXVaoX-gVo5",
        "outputId": "92c6892f-4533-4ab3-dec2-a986ab384897"
      },
      "execution_count": null,
      "outputs": [
        {
          "output_type": "stream",
          "name": "stdout",
          "text": [
            "MAE: 1.6762636095750008, MSE: 6.906339233922569, RMSE: 2.6279914828481785, R2: 0.8029607444021868\n"
          ]
        }
      ]
    },
    {
      "cell_type": "code",
      "source": [
        "y_train_pred= model.predict(X_train)"
      ],
      "metadata": {
        "id": "mkfo78pTRGG0"
      },
      "execution_count": null,
      "outputs": []
    },
    {
      "cell_type": "code",
      "source": [
        "mae = mean_absolute_error(y_train, y_train_pred)\n",
        "mse = mean_squared_error(y_train, y_train_pred)\n",
        "rmse = np.sqrt(mse)\n",
        "r2 = r2_score(y_train, y_train_pred)\n",
        "\n",
        "print(f\"MAE: {mae}, MSE: {mse}, RMSE: {rmse}, R2: {r2}\")\n"
      ],
      "metadata": {
        "colab": {
          "base_uri": "https://localhost:8080/"
        },
        "id": "udooWHLHJhuF",
        "outputId": "59ac99d0-c115-45cd-efd5-b4e93f96d3d8"
      },
      "execution_count": null,
      "outputs": [
        {
          "output_type": "stream",
          "name": "stdout",
          "text": [
            "MAE: 0.3305327103375421, MSE: 0.38792473212846246, RMSE: 0.6228360395228125, R2: 0.9819903651112161\n"
          ]
        }
      ]
    },
    {
      "cell_type": "code",
      "source": [
        "import matplotlib.pyplot as plt\n",
        "\n",
        "# Plot y_test vs y_pred\n",
        "plt.scatter(y_test, y_pred, alpha=0.5)\n",
        "plt.xlabel('True Values')\n",
        "plt.ylabel('Predicted Values')\n",
        "plt.title('True Values vs Predicted Values')\n",
        "\n",
        "# Add a diagonal line to represent the ideal prediction\n",
        "plt.plot([min(y_test), max(y_test)], [min(y_test), max(y_test)], color='red', linestyle='--')\n",
        "\n",
        "plt.show()\n"
      ],
      "metadata": {
        "colab": {
          "base_uri": "https://localhost:8080/",
          "height": 472
        },
        "id": "nyupRUKXiQTa",
        "outputId": "518f6baf-ee65-4d57-f887-b2c0e282ec71"
      },
      "execution_count": null,
      "outputs": [
        {
          "output_type": "display_data",
          "data": {
            "text/plain": [
              "<Figure size 640x480 with 1 Axes>"
            ],
            "image/png": "[encoded data removed]"
          },
          "metadata": {}
        }
      ]
    },
    {
      "cell_type": "code",
      "source": [
        "import matplotlib.pyplot as plt\n",
        "import numpy as np\n",
        "\n",
        "# Sort the data based on y_test\n",
        "sorted_indices = np.argsort(y_test)\n",
        "y_test_sorted = y_test.iloc[sorted_indices]\n",
        "y_pred_sorted = y_pred[sorted_indices]\n",
        "\n",
        "# Create a line chart comparing y_test and y_pred\n",
        "# plt.figure(figsize=(20, 10))\n",
        "\n",
        "plt.plot(y_test_sorted.values, label='True Values', linestyle='--')\n",
        "plt.plot(y_pred_sorted, label='Predicted Values', linestyle='-')\n",
        "\n",
        "plt.xlabel('Index (sorted by True Values)')\n",
        "plt.ylabel('Values')\n",
        "plt.title('True Values vs Predicted Values for Transactional Model')\n",
        "plt.legend()\n",
        "# Create a figure with a larger size\n",
        "plt.show()\n"
      ],
      "metadata": {
        "colab": {
          "base_uri": "https://localhost:8080/",
          "height": 472
        },
        "id": "LYHWh4_QijdV",
        "outputId": "11b6d6f1-3307-4890-a89d-8106f1803fac"
      },
      "execution_count": null,
      "outputs": [
        {
          "output_type": "display_data",
          "data": {
            "text/plain": [
              "<Figure size 640x480 with 1 Axes>"
            ],
            "image/png": "[encoded data removed]"
          },
          "metadata": {}
        }
      ]
    },
    {
      "cell_type": "code",
      "source": [
        "import matplotlib.pyplot as plt\n",
        "import numpy as np\n",
        "\n",
        "# Sort the data based on y_train\n",
        "sorted_indices = np.argsort(y_train)\n",
        "y_train_sorted = y_train.iloc[sorted_indices]\n",
        "y_train_pred_sorted = y_train_pred[sorted_indices]\n",
        "\n",
        "# Create a line chart comparing y_train and y_train_pred\n",
        "# plt.figure(figsize=(20, 10))\n",
        "\n",
        "plt.plot(y_train_sorted.values, label='True Values', linestyle='--')\n",
        "plt.plot(y_train_pred_sorted, label='Predicted Values', linestyle='-')\n",
        "\n",
        "plt.xlabel('Index (sorted by True Values)')\n",
        "plt.ylabel('Values')\n",
        "plt.title('True Values vs Predicted Values for Train')\n",
        "plt.legend()\n",
        "# Create a figure with a larger size\n",
        "plt.show()\n"
      ],
      "metadata": {
        "colab": {
          "base_uri": "https://localhost:8080/",
          "height": 472
        },
        "id": "b0Gae7lmjgWW",
        "outputId": "05e6e2f3-0dab-4c90-cd35-089033d7c956"
      },
      "execution_count": null,
      "outputs": [
        {
          "output_type": "display_data",
          "data": {
            "text/plain": [
              "<Figure size 640x480 with 1 Axes>"
            ],
            "image/png": "[encoded data removed]"
          },
          "metadata": {}
        }
      ]
    },
    {
      "cell_type": "code",
      "source": [
        "import datetime"
      ],
      "metadata": {
        "id": "RDFtK41CWwpR"
      },
      "execution_count": null,
      "outputs": []
    },
    {
      "cell_type": "code",
      "source": [
        "datetime.datetime.now().timestamp()"
      ],
      "metadata": {
        "colab": {
          "base_uri": "https://localhost:8080/"
        },
        "id": "vJJxdpfxXnyF",
        "outputId": "fc7e4a86-c9de-4afd-c08b-41577cc5839e"
      },
      "execution_count": null,
      "outputs": [
        {
          "output_type": "execute_result",
          "data": {
            "text/plain": [
              "1684177256.069596"
            ]
          },
          "metadata": {},
          "execution_count": 28
        }
      ]
    },
    {
      "cell_type": "code",
      "source": [
        "# # Model deployment\n",
        "# new_data = pd.DataFrame({\n",
        "#                          'transaction_time': [int(datetime.datetime.now().timestamp())],\n",
        "#                          'hour': [datetime.datetime.now().hour],\n",
        "#                          'dayofweek': [datetime.datetime.now().weekday()],\n",
        "#                          'month': [datetime.datetime.now().month],\n",
        "#                          'season': [(datetime.datetime.now().month % 12 + 3)//3]})\n",
        "# new_data['transaction_time'] = new_data['transaction_time'].astype(np.int64)\n",
        "# predicted_duration = model.predict(new_data)\n",
        "# print(f\"Predicted charging duration: {predicted_duration[0]} seconds\")"
      ],
      "metadata": {
        "id": "--TuWIa5RxIu"
      },
      "execution_count": null,
      "outputs": []
    },
    {
      "cell_type": "code",
      "source": [
        "# import pandas as pd\n",
        "# import numpy as np\n",
        "# from sklearn.model_selection import train_test_split\n",
        "# from sklearn.linear_model import LinearRegression\n",
        "# from sklearn.metrics import mean_absolute_error, mean_squared_error, r2_score\n",
        "\n",
        "\n",
        "\n",
        "# # Feature engineering\n",
        "# data['Transaction_Date'] = pd.to_datetime(data['Transaction_Date_(Pacific_Time)'])\n",
        "# data['hour'] = data['Transaction_Date'].dt.hour\n",
        "# data['dayofweek'] = data['Transaction_Date'].dt.dayofweek\n",
        "# data['date'] = data['Transaction_Date'].dt.date\n",
        "# data['week'] = data['Transaction_Date'].dt.week\n",
        "\n",
        "# # Data preprocessing\n",
        "# data = data.drop(columns=['Station_Name', 'MAC_Address', 'Start_Date', 'Start_Time_Zone', \n",
        "#                           'End_Date', 'End_Time_Zone', 'Transaction_Date_(Pacific_Time)', \n",
        "#                           'GHG_Savings_(kg)', 'Gasoline_Savings_(gallons)', 'Port_Type', \n",
        "#                           'Port_Number', 'Plug_Type', 'Address_1', 'Latitude', 'Longitude', \n",
        "#                           'Ended_By', 'Plug_In_Event_Id', 'Driver_Postal_Code', 'User_ID'])\n",
        "# data['Total_Duration_(hh:mm:ss)'] = pd.to_timedelta(data['Total_Duration_(hh:mm:ss)']).dt.total_seconds()\n",
        "# data['Charging_Time_(hh:mm:ss)'] = pd.to_timedelta(data['Charging_Time_(hh:mm:ss)']).dt.total_seconds()\n",
        "# data['Energy_(kWh)'] = pd.to_numeric(data['Energy_(kWh)'])\n",
        "\n",
        "# # Hourly demand\n",
        "# X_hourly = data.groupby(['hour'])[['Energy_(kWh)']].sum().reset_index()\n",
        "# y_hourly = data.groupby(['hour'])[['Charging_Time_(hh:mm:ss)']].mean().reset_index()['Charging_Time_(hh:mm:ss)']\n",
        "# X_train_hourly, X_test_hourly, y_train_hourly, y_test_hourly = train_test_split(X_hourly, y_hourly, test_size=0.2, random_state=42)\n",
        "\n",
        "# model_hourly = LinearRegression()\n",
        "# model_hourly.fit(X_train_hourly, y_train_hourly)\n",
        "# y_pred_hourly = model_hourly.predict(X_test_hourly)\n",
        "\n",
        "# print(f\"Hourly model - MAE: {mean_absolute_error(y_test_hourly, y_pred_hourly)}, MSE: {mean_squared_error(y_test_hourly, y_pred_hourly)}, R2: {r2_score(y_test_hourly, y_pred_hourly)}\")\n",
        "\n",
        "# # Daily demand\n",
        "# X_daily = data.groupby(['date'])[['Energy_(kWh)']].sum().reset_index()\n",
        "# y_daily = data.groupby(['date'])[['Charging_Time_(hh:mm:ss)']].mean().reset_index()['Charging_Time_(hh:mm:ss)']\n",
        "# X_train_daily, X_test_daily, y_train_daily, y_test_daily = train_test_split(X_daily, y_daily, test_size=0.2, random_state=42)\n",
        "\n",
        "# model_daily = LinearRegression()\n",
        "# model_daily.fit(X_train_daily, y_train_daily)\n",
        "# y_pred_daily = model_daily.predict(X_test_daily)\n",
        "\n",
        "# print(f\"Daily model - MAE: {mean_absolute_error(y_test_daily, y_pred_daily)}, MSE: {mean_squared_error(y_test_daily, y_pred_daily)}, R2: {r2_score(y_test_daily, y_pred_daily)}\")\n",
        "\n",
        "# # Weekly demand\n",
        "# X_weekly = data.groupby(['week'])[['Energy_(kWh)']].sum().reset_index()\n",
        "# y_weekly = data.groupby(['week'])[['Charging_Time_(hh:mm:ss)']].\n"
      ],
      "metadata": {
        "id": "fmRfXmiylshF"
      },
      "execution_count": null,
      "outputs": []
    },
    {
      "cell_type": "markdown",
      "source": [
        "TCN"
      ],
      "metadata": {
        "id": "7YA1sYEdtCpL"
      }
    },
    {
      "cell_type": "code",
      "source": [
        "# import numpy as np\n",
        "# from tensorflow.keras.models import Sequential\n",
        "# from tensorflow.keras.layers import Conv1D, Dense, Flatten\n",
        "# from tensorflow.keras.optimizers import Adam\n",
        "# from tensorflow.keras.metrics import MeanAbsoluteError\n",
        "\n",
        "# # Assuming your X and y data are stored in numpy arrays or array-like objectsb\n",
        "# # Reshape the input data for TCN (assuming 3D input shape [samples, timesteps, features])\n",
        "# X_train = X_train.reshape(X_train.shape[0], X_train.shape[1], 1)\n",
        "# X_test = X_test.reshape(X_test.shape[0], X_test.shape[1], 1)\n",
        "\n",
        "# # Build the TCN model\n",
        "# model = Sequential()\n",
        "# model.add(Conv1D(filters=64, kernel_size=3, activation='relu', input_shape=(X_train.shape[1], 1)))\n",
        "# model.add(Conv1D(filters=64, kernel_size=3, activation='relu'))\n",
        "# model.add(Flatten())\n",
        "# model.add(Dense(units=1))\n",
        "\n",
        "# # Compile the model\n",
        "# model.compile(loss='mean_squared_error', optimizer=Adam(), metrics=[MeanAbsoluteError()])\n",
        "\n",
        "# # Train the model\n",
        "# model.fit(X_train, y_train, epochs=10, batch_size=32)\n",
        "\n",
        "# # Make predictions\n",
        "# y_pred = model.predict(X_test)\n",
        "\n",
        "# # Evaluate the model\n",
        "# mae = np.mean(np.abs(y_pred - y_test))\n",
        "# rmse = np.sqrt(np.mean((y_pred - y_test) ** 2))\n"
      ],
      "metadata": {
        "id": "QdTZJpd7s_vy"
      },
      "execution_count": null,
      "outputs": []
    },
    {
      "cell_type": "markdown",
      "source": [
        "Long Short-Term Memory with Attention (LSTM-Attention):\n"
      ],
      "metadata": {
        "id": "hgzzD4qbtHkq"
      }
    },
    {
      "cell_type": "code",
      "source": [
        "# import numpy as np\n",
        "# from tensorflow.keras.models import Sequential\n",
        "# from tensorflow.keras.layers import LSTM, Dense, Attention\n",
        "# from tensorflow.keras.optimizers import Adam\n",
        "# from tensorflow.keras.metrics import MeanAbsoluteError\n",
        "\n",
        "# # Assuming your X and y data are stored in numpy arrays or array-like objects\n",
        "# # Reshape the input data for LSTM (assuming 3D input shape [samples, timesteps, features])\n",
        "# X_train = X_train.reshape(X_train.shape[0], X_train.shape[1], 1)\n",
        "# X_test = X_test.reshape(X_test.shape[0], X_test.shape[1], 1)\n",
        "\n",
        "# # Build the LSTM model with Attention\n",
        "# model = Sequential()\n",
        "# model.add(LSTM(units=64, input_shape=(X_train.shape[1], 1), return_sequences=True))\n",
        "# model.add(Attention())\n",
        "# model.add(Dense(units=1))\n",
        "\n",
        "# # Compile the model\n",
        "# model.compile(loss='mean_squared_error', optimizer=Adam(), metrics=[MeanAbsoluteError()])\n",
        "\n",
        "# # Train the model\n",
        "# model.fit(X_train, y_train, epochs=10, batch_size=32)\n",
        "\n",
        "# # Make predictions\n",
        "# y_pred = model.predict(X_test)\n",
        "\n",
        "# # Evaluate the model\n",
        "# mae = np.mean(np.abs(y_pred - y_test))\n",
        "# rmse = np.sqrt(np.mean((y_pred - y_test) ** 2))\n"
      ],
      "metadata": {
        "id": "DNp4G1pItFhv"
      },
      "execution_count": null,
      "outputs": []
    },
    {
      "cell_type": "markdown",
      "source": [
        "Extreme Gradient Boosting with Time Series Cross-Validation (XGBoost-TSCV):\n"
      ],
      "metadata": {
        "id": "gmGYk8sktKlz"
      }
    },
    {
      "cell_type": "code",
      "source": [
        "# import xgboost as xgb\n",
        "# from sklearn.metrics import mean_absolute_error\n",
        "# from sklearn.model_selection import TimeSeriesSplit\n",
        "\n",
        "# # Assuming your X and y data are stored in pandas DataFrame or array-like objects\n",
        "\n",
        "# # Create a parameter dictionary for XGBoost\n",
        "# params = {\n",
        "#     'objective': 'reg:squarederror',\n",
        "#     'eval_metric': 'mae',\n",
        "#     'eta': 0.1,\n",
        "#     'max_depth': 3,\n",
        "#     'subsample': 0.8,\n",
        "#     'colsample_bytree': 0.8\n",
        "# }\n",
        "\n",
        "# # Perform Time Series Cross-Validation (TSCV) with XGBoost\n",
        "# tscv = TimeSeriesSplit(n_splits=5)\n",
        "# mae_scores = []\n",
        "\n",
        "# for train_index, test_index in tscv.split(X):\n",
        "#     X_train, X_test = X.iloc[train_index], X.iloc[test_index]\n",
        "#     y_train, y_test = y[train_index], y[test_index]\n",
        "\n",
        "#     # Convert data to DMatrix format for XGBoost\n",
        "#     dtrain = xgb.DMatrix(X_train, label=y_train)\n",
        "#     dtest = xgb.DMatrix(X_test, label=y_test)\n",
        "\n",
        "#     # Train the XGBoost model\n",
        "#     model = xgb.train(params, dtrain)\n",
        "\n",
        "#     # Make predictions\n",
        "#     y_pred = model.predict(dtest)\n",
        "\n",
        "#     # Evaluate the model\n",
        "#     mae = mean_absolute_error(y_test, y_pred)\n",
        "#     mae_scores.append(mae)\n",
        "\n",
        "# # Calculate the average MAE score\n",
        "# avg_mae = np.mean(mae_scores)\n"
      ],
      "metadata": {
        "id": "pau23dlFtJgR"
      },
      "execution_count": null,
      "outputs": []
    }
  ]
}
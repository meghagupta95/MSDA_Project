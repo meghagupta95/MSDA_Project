{
  "nbformat": 4,
  "nbformat_minor": 0,
  "metadata": {
    "colab": {
      "provenance": []
    },
    "kernelspec": {
      "name": "python3",
      "display_name": "Python 3"
    },
    "language_info": {
      "name": "python"
    }
  },
  "cells": [
    {
      "cell_type": "code",
      "execution_count": null,
      "metadata": {
        "id": "b6kWPAEK8zyX"
      },
      "outputs": [],
      "source": [
        "import pandas as pd\n",
        "import numpy as np"
      ]
    },
    {
      "cell_type": "code",
      "source": [
        "data=pd.read_csv('PaloAltoev.csv')"
      ],
      "metadata": {
        "id": "0_h-CRlS9R4L"
      },
      "execution_count": null,
      "outputs": []
    },
    {
      "cell_type": "code",
      "source": [
        "data.head()"
      ],
      "metadata": {
        "colab": {
          "base_uri": "https://localhost:8080/",
          "height": 612
        },
        "id": "G4g4mM9j9VAI",
        "outputId": "43bb95dc-75e1-4932-8b5a-eb6646ec7cc5"
      },
      "execution_count": null,
      "outputs": [
        {
          "output_type": "execute_result",
          "data": {
            "text/plain": [
              "                 Station Name          MAC Address           Org Name  \\\n",
              "0  PALO ALTO CA / HAMILTON #1  000D:6F00:015A:9D76  City of Palo Alto   \n",
              "1  PALO ALTO CA / HAMILTON #1  000D:6F00:015A:9D76  City of Palo Alto   \n",
              "2  PALO ALTO CA / HAMILTON #1  000D:6F00:015A:9D76  City of Palo Alto   \n",
              "3  PALO ALTO CA / HAMILTON #1  000D:6F00:015A:9D76  City of Palo Alto   \n",
              "4  PALO ALTO CA / HAMILTON #1  000D:6F00:015A:9D76  City of Palo Alto   \n",
              "\n",
              "        Start Date Start Time Zone         End Date End Time Zone  \\\n",
              "0  7/29/2011 20:17             PDT  7/29/2011 23:20           PDT   \n",
              "1   7/30/2011 0:00             PDT   7/30/2011 0:02           PDT   \n",
              "2   7/30/2011 8:16             PDT  7/30/2011 12:34           PDT   \n",
              "3  7/30/2011 14:51             PDT  7/30/2011 16:55           PDT   \n",
              "4  7/30/2011 18:51             PDT  7/30/2011 20:03           PDT   \n",
              "\n",
              "  Transaction Date (Pacific Time) Total Duration (hh:mm:ss)  \\\n",
              "0                 7/29/2011 23:20                   3:03:32   \n",
              "1                  7/30/2011 0:02                   0:02:06   \n",
              "2                 7/30/2011 12:34                   4:17:32   \n",
              "3                 7/30/2011 16:55                   2:03:24   \n",
              "4                 7/30/2011 20:03                   1:11:24   \n",
              "\n",
              "  Charging Time (hh:mm:ss)  ...   Longitude  Currency  Fee  \\\n",
              "0                  1:54:03  ... -122.160309       USD    0   \n",
              "1                  0:01:54  ... -122.160309       USD    0   \n",
              "2                  4:17:28  ... -122.160309       USD    0   \n",
              "3                  2:02:58  ... -122.160309       USD    0   \n",
              "4                  0:43:54  ... -122.160309       USD    0   \n",
              "\n",
              "              Ended By  Plug In Event Id Driver Postal Code  User ID County  \\\n",
              "0  Plug Out at Vehicle                 3            95124.0   3284.0    NaN   \n",
              "1             Customer                 4            94301.0   4169.0    NaN   \n",
              "2  Plug Out at Vehicle                 5            94301.0   4169.0    NaN   \n",
              "3             Customer                 6            94302.0   2545.0    NaN   \n",
              "4  Plug Out at Vehicle                 7            94043.0   3765.0    NaN   \n",
              "\n",
              "  System S/N Model Number  \n",
              "0        NaN          NaN  \n",
              "1        NaN          NaN  \n",
              "2        NaN          NaN  \n",
              "3        NaN          NaN  \n",
              "4        NaN          NaN  \n",
              "\n",
              "[5 rows x 33 columns]"
            ],
            "text/html": [
              "\n",
              "  <div id=\"df-70247366-1709-49da-98b3-376159d4e310\">\n",
              "    <div class=\"colab-df-container\">\n",
              "      <div>\n",
              "<style scoped>\n",
              "    .dataframe tbody tr th:only-of-type {\n",
              "        vertical-align: middle;\n",
              "    }\n",
              "\n",
              "    .dataframe tbody tr th {\n",
              "        vertical-align: top;\n",
              "    }\n",
              "\n",
              "    .dataframe thead th {\n",
              "        text-align: right;\n",
              "    }\n",
              "</style>\n",
              "<table border=\"1\" class=\"dataframe\">\n",
              "  <thead>\n",
              "    <tr style=\"text-align: right;\">\n",
              "      <th></th>\n",
              "      <th>Station Name</th>\n",
              "      <th>MAC Address</th>\n",
              "      <th>Org Name</th>\n",
              "      <th>Start Date</th>\n",
              "      <th>Start Time Zone</th>\n",
              "      <th>End Date</th>\n",
              "      <th>End Time Zone</th>\n",
              "      <th>Transaction Date (Pacific Time)</th>\n",
              "      <th>Total Duration (hh:mm:ss)</th>\n",
              "      <th>Charging Time (hh:mm:ss)</th>\n",
              "      <th>...</th>\n",
              "      <th>Longitude</th>\n",
              "      <th>Currency</th>\n",
              "      <th>Fee</th>\n",
              "      <th>Ended By</th>\n",
              "      <th>Plug In Event Id</th>\n",
              "      <th>Driver Postal Code</th>\n",
              "      <th>User ID</th>\n",
              "      <th>County</th>\n",
              "      <th>System S/N</th>\n",
              "      <th>Model Number</th>\n",
              "    </tr>\n",
              "  </thead>\n",
              "  <tbody>\n",
              "    <tr>\n",
              "      <th>0</th>\n",
              "      <td>PALO ALTO CA / HAMILTON #1</td>\n",
              "      <td>000D:6F00:015A:9D76</td>\n",
              "      <td>City of Palo Alto</td>\n",
              "      <td>7/29/2011 20:17</td>\n",
              "      <td>PDT</td>\n",
              "      <td>7/29/2011 23:20</td>\n",
              "      <td>PDT</td>\n",
              "      <td>7/29/2011 23:20</td>\n",
              "      <td>3:03:32</td>\n",
              "      <td>1:54:03</td>\n",
              "      <td>...</td>\n",
              "      <td>-122.160309</td>\n",
              "      <td>USD</td>\n",
              "      <td>0</td>\n",
              "      <td>Plug Out at Vehicle</td>\n",
              "      <td>3</td>\n",
              "      <td>95124.0</td>\n",
              "      <td>3284.0</td>\n",
              "      <td>NaN</td>\n",
              "      <td>NaN</td>\n",
              "      <td>NaN</td>\n",
              "    </tr>\n",
              "    <tr>\n",
              "      <th>1</th>\n",
              "      <td>PALO ALTO CA / HAMILTON #1</td>\n",
              "      <td>000D:6F00:015A:9D76</td>\n",
              "      <td>City of Palo Alto</td>\n",
              "      <td>7/30/2011 0:00</td>\n",
              "      <td>PDT</td>\n",
              "      <td>7/30/2011 0:02</td>\n",
              "      <td>PDT</td>\n",
              "      <td>7/30/2011 0:02</td>\n",
              "      <td>0:02:06</td>\n",
              "      <td>0:01:54</td>\n",
              "      <td>...</td>\n",
              "      <td>-122.160309</td>\n",
              "      <td>USD</td>\n",
              "      <td>0</td>\n",
              "      <td>Customer</td>\n",
              "      <td>4</td>\n",
              "      <td>94301.0</td>\n",
              "      <td>4169.0</td>\n",
              "      <td>NaN</td>\n",
              "      <td>NaN</td>\n",
              "      <td>NaN</td>\n",
              "    </tr>\n",
              "    <tr>\n",
              "      <th>2</th>\n",
              "      <td>PALO ALTO CA / HAMILTON #1</td>\n",
              "      <td>000D:6F00:015A:9D76</td>\n",
              "      <td>City of Palo Alto</td>\n",
              "      <td>7/30/2011 8:16</td>\n",
              "      <td>PDT</td>\n",
              "      <td>7/30/2011 12:34</td>\n",
              "      <td>PDT</td>\n",
              "      <td>7/30/2011 12:34</td>\n",
              "      <td>4:17:32</td>\n",
              "      <td>4:17:28</td>\n",
              "      <td>...</td>\n",
              "      <td>-122.160309</td>\n",
              "      <td>USD</td>\n",
              "      <td>0</td>\n",
              "      <td>Plug Out at Vehicle</td>\n",
              "      <td>5</td>\n",
              "      <td>94301.0</td>\n",
              "      <td>4169.0</td>\n",
              "      <td>NaN</td>\n",
              "      <td>NaN</td>\n",
              "      <td>NaN</td>\n",
              "    </tr>\n",
              "    <tr>\n",
              "      <th>3</th>\n",
              "      <td>PALO ALTO CA / HAMILTON #1</td>\n",
              "      <td>000D:6F00:015A:9D76</td>\n",
              "      <td>City of Palo Alto</td>\n",
              "      <td>7/30/2011 14:51</td>\n",
              "      <td>PDT</td>\n",
              "      <td>7/30/2011 16:55</td>\n",
              "      <td>PDT</td>\n",
              "      <td>7/30/2011 16:55</td>\n",
              "      <td>2:03:24</td>\n",
              "      <td>2:02:58</td>\n",
              "      <td>...</td>\n",
              "      <td>-122.160309</td>\n",
              "      <td>USD</td>\n",
              "      <td>0</td>\n",
              "      <td>Customer</td>\n",
              "      <td>6</td>\n",
              "      <td>94302.0</td>\n",
              "      <td>2545.0</td>\n",
              "      <td>NaN</td>\n",
              "      <td>NaN</td>\n",
              "      <td>NaN</td>\n",
              "    </tr>\n",
              "    <tr>\n",
              "      <th>4</th>\n",
              "      <td>PALO ALTO CA / HAMILTON #1</td>\n",
              "      <td>000D:6F00:015A:9D76</td>\n",
              "      <td>City of Palo Alto</td>\n",
              "      <td>7/30/2011 18:51</td>\n",
              "      <td>PDT</td>\n",
              "      <td>7/30/2011 20:03</td>\n",
              "      <td>PDT</td>\n",
              "      <td>7/30/2011 20:03</td>\n",
              "      <td>1:11:24</td>\n",
              "      <td>0:43:54</td>\n",
              "      <td>...</td>\n",
              "      <td>-122.160309</td>\n",
              "      <td>USD</td>\n",
              "      <td>0</td>\n",
              "      <td>Plug Out at Vehicle</td>\n",
              "      <td>7</td>\n",
              "      <td>94043.0</td>\n",
              "      <td>3765.0</td>\n",
              "      <td>NaN</td>\n",
              "      <td>NaN</td>\n",
              "      <td>NaN</td>\n",
              "    </tr>\n",
              "  </tbody>\n",
              "</table>\n",
              "<p>5 rows × 33 columns</p>\n",
              "</div>\n",
              "      <button class=\"colab-df-convert\" onclick=\"convertToInteractive('df-70247366-1709-49da-98b3-376159d4e310')\"\n",
              "              title=\"Convert this dataframe to an interactive table.\"\n",
              "              style=\"display:none;\">\n",
              "        \n",
              "  <svg xmlns=\"http://www.w3.org/2000/svg\" height=\"24px\"viewBox=\"0 0 24 24\"\n",
              "       width=\"24px\">\n",
              "    <path d=\"M0 0h24v24H0V0z\" fill=\"none\"/>\n",
              "    <path d=\"M18.56 5.44l.94 2.06.94-2.06 2.06-.94-2.06-.94-.94-2.06-.94 2.06-2.06.94zm-11 1L8.5 8.5l.94-2.06 2.06-.94-2.06-.94L8.5 2.5l-.94 2.06-2.06.94zm10 10l.94 2.06.94-2.06 2.06-.94-2.06-.94-.94-2.06-.94 2.06-2.06.94z\"/><path d=\"M17.41 7.96l-1.37-1.37c-.4-.4-.92-.59-1.43-.59-.52 0-1.04.2-1.43.59L10.3 9.45l-7.72 7.72c-.78.78-.78 2.05 0 2.83L4 21.41c.39.39.9.59 1.41.59.51 0 1.02-.2 1.41-.59l7.78-7.78 2.81-2.81c.8-.78.8-2.07 0-2.86zM5.41 20L4 18.59l7.72-7.72 1.47 1.35L5.41 20z\"/>\n",
              "  </svg>\n",
              "      </button>\n",
              "      \n",
              "  <style>\n",
              "    .colab-df-container {\n",
              "      display:flex;\n",
              "      flex-wrap:wrap;\n",
              "      gap: 12px;\n",
              "    }\n",
              "\n",
              "    .colab-df-convert {\n",
              "      background-color: #E8F0FE;\n",
              "      border: none;\n",
              "      border-radius: 50%;\n",
              "      cursor: pointer;\n",
              "      display: none;\n",
              "      fill: #1967D2;\n",
              "      height: 32px;\n",
              "      padding: 0 0 0 0;\n",
              "      width: 32px;\n",
              "    }\n",
              "\n",
              "    .colab-df-convert:hover {\n",
              "      background-color: #E2EBFA;\n",
              "      box-shadow: 0px 1px 2px rgba(60, 64, 67, 0.3), 0px 1px 3px 1px rgba(60, 64, 67, 0.15);\n",
              "      fill: #174EA6;\n",
              "    }\n",
              "\n",
              "    [theme=dark] .colab-df-convert {\n",
              "      background-color: #3B4455;\n",
              "      fill: #D2E3FC;\n",
              "    }\n",
              "\n",
              "    [theme=dark] .colab-df-convert:hover {\n",
              "      background-color: #434B5C;\n",
              "      box-shadow: 0px 1px 3px 1px rgba(0, 0, 0, 0.15);\n",
              "      filter: drop-shadow(0px 1px 2px rgba(0, 0, 0, 0.3));\n",
              "      fill: #FFFFFF;\n",
              "    }\n",
              "  </style>\n",
              "\n",
              "      <script>\n",
              "        const buttonEl =\n",
              "          document.querySelector('#df-70247366-1709-49da-98b3-376159d4e310 button.colab-df-convert');\n",
              "        buttonEl.style.display =\n",
              "          google.colab.kernel.accessAllowed ? 'block' : 'none';\n",
              "\n",
              "        async function convertToInteractive(key) {\n",
              "          const element = document.querySelector('#df-70247366-1709-49da-98b3-376159d4e310');\n",
              "          const dataTable =\n",
              "            await google.colab.kernel.invokeFunction('convertToInteractive',\n",
              "                                                     [key], {});\n",
              "          if (!dataTable) return;\n",
              "\n",
              "          const docLinkHtml = 'Like what you see? Visit the ' +\n",
              "            '<a target=\"_blank\" href=https://colab.research.google.com/notebooks/data_table.ipynb>data table notebook</a>'\n",
              "            + ' to learn more about interactive tables.';\n",
              "          element.innerHTML = '';\n",
              "          dataTable['output_type'] = 'display_data';\n",
              "          await google.colab.output.renderOutput(dataTable, element);\n",
              "          const docLink = document.createElement('div');\n",
              "          docLink.innerHTML = docLinkHtml;\n",
              "          element.appendChild(docLink);\n",
              "        }\n",
              "      </script>\n",
              "    </div>\n",
              "  </div>\n",
              "  "
            ]
          },
          "metadata": {},
          "execution_count": 3
        }
      ]
    },
    {
      "cell_type": "code",
      "source": [
        "data.columns"
      ],
      "metadata": {
        "colab": {
          "base_uri": "https://localhost:8080/"
        },
        "id": "sRHUlZm99YnI",
        "outputId": "3aac0721-d2c3-4790-ccd0-6ad3585b6eaf"
      },
      "execution_count": null,
      "outputs": [
        {
          "output_type": "execute_result",
          "data": {
            "text/plain": [
              "Index(['Station Name', 'MAC Address', 'Org Name', 'Start Date',\n",
              "       'Start Time Zone', 'End Date', 'End Time Zone',\n",
              "       'Transaction Date (Pacific Time)', 'Total Duration (hh:mm:ss)',\n",
              "       'Charging Time (hh:mm:ss)', 'Energy (kWh)', 'GHG Savings (kg)',\n",
              "       'Gasoline Savings (gallons)', 'Port Type', 'Port Number', 'Plug Type',\n",
              "       'EVSE ID', 'Address 1', 'City', 'State/Province', 'Postal Code',\n",
              "       'Country', 'Latitude', 'Longitude', 'Currency', 'Fee', 'Ended By',\n",
              "       'Plug In Event Id', 'Driver Postal Code', 'User ID', 'County',\n",
              "       'System S/N', 'Model Number'],\n",
              "      dtype='object')"
            ]
          },
          "metadata": {},
          "execution_count": 4
        }
      ]
    },
    {
      "cell_type": "code",
      "source": [
        "data.columns=data.columns.str.replace(' ','_')"
      ],
      "metadata": {
        "id": "yUpJL9PN9Zxj"
      },
      "execution_count": null,
      "outputs": []
    },
    {
      "cell_type": "code",
      "source": [
        "data.isna().sum()"
      ],
      "metadata": {
        "colab": {
          "base_uri": "https://localhost:8080/"
        },
        "id": "LEP11vBu9nTC",
        "outputId": "848c22bb-606e-406a-a0f3-84e4d8d4903b"
      },
      "execution_count": null,
      "outputs": [
        {
          "output_type": "execute_result",
          "data": {
            "text/plain": [
              "Station_Name                          0\n",
              "MAC_Address                           0\n",
              "Org_Name                              0\n",
              "Start_Date                            0\n",
              "Start_Time_Zone                       0\n",
              "End_Date                              0\n",
              "End_Time_Zone                         0\n",
              "Transaction_Date_(Pacific_Time)       0\n",
              "Total_Duration_(hh:mm:ss)             0\n",
              "Charging_Time_(hh:mm:ss)              0\n",
              "Energy_(kWh)                          0\n",
              "GHG_Savings_(kg)                      0\n",
              "Gasoline_Savings_(gallons)            0\n",
              "Port_Type                             0\n",
              "Port_Number                           0\n",
              "Plug_Type                             0\n",
              "EVSE_ID                            9999\n",
              "Address_1                             0\n",
              "City                                  0\n",
              "State/Province                        0\n",
              "Postal_Code                           0\n",
              "Country                               0\n",
              "Latitude                              0\n",
              "Longitude                             0\n",
              "Currency                           1500\n",
              "Fee                                   0\n",
              "Ended_By                             23\n",
              "Plug_In_Event_Id                      0\n",
              "Driver_Postal_Code                  585\n",
              "User_ID                             179\n",
              "County                             9999\n",
              "System_S/N                         9999\n",
              "Model_Number                       9999\n",
              "dtype: int64"
            ]
          },
          "metadata": {},
          "execution_count": 6
        }
      ]
    },
    {
      "cell_type": "code",
      "source": [
        "data.shape"
      ],
      "metadata": {
        "colab": {
          "base_uri": "https://localhost:8080/"
        },
        "id": "WAp579wD9oc1",
        "outputId": "09a0f9de-8c56-4d4c-f901-682046d5756d"
      },
      "execution_count": null,
      "outputs": [
        {
          "output_type": "execute_result",
          "data": {
            "text/plain": [
              "(9999, 33)"
            ]
          },
          "metadata": {},
          "execution_count": 7
        }
      ]
    },
    {
      "cell_type": "code",
      "source": [
        "list_null_cols= []\n",
        "for i in data.columns:\n",
        "    if data[i].isna().sum() == data.shape[0]:\n",
        "        list_null_cols.append(i)"
      ],
      "metadata": {
        "id": "AvB8TjrQAEUG"
      },
      "execution_count": null,
      "outputs": []
    },
    {
      "cell_type": "code",
      "source": [
        "list_null_cols"
      ],
      "metadata": {
        "colab": {
          "base_uri": "https://localhost:8080/"
        },
        "id": "57SZuXCxAOx4",
        "outputId": "a76b94d1-659e-4430-a460-10e3a9ffcf57"
      },
      "execution_count": null,
      "outputs": [
        {
          "output_type": "execute_result",
          "data": {
            "text/plain": [
              "['EVSE_ID', 'County', 'System_S/N', 'Model_Number']"
            ]
          },
          "metadata": {},
          "execution_count": 9
        }
      ]
    },
    {
      "cell_type": "code",
      "source": [
        "list_single_cols = []\n",
        "for i in data.columns:\n",
        "    if data[i].nunique() == 1:\n",
        "        list_single_cols.append(i)"
      ],
      "metadata": {
        "id": "PurNa6hQ-HU2"
      },
      "execution_count": null,
      "outputs": []
    },
    {
      "cell_type": "code",
      "source": [
        "list_single_cols"
      ],
      "metadata": {
        "colab": {
          "base_uri": "https://localhost:8080/"
        },
        "id": "5wn2N08Q_rfa",
        "outputId": "e0c6a15e-ae7f-46b0-bf94-683bf678a1f8"
      },
      "execution_count": null,
      "outputs": [
        {
          "output_type": "execute_result",
          "data": {
            "text/plain": [
              "['Org_Name',\n",
              " 'City',\n",
              " 'State/Province',\n",
              " 'Postal_Code',\n",
              " 'Country',\n",
              " 'Currency',\n",
              " 'Fee']"
            ]
          },
          "metadata": {},
          "execution_count": 11
        }
      ]
    },
    {
      "cell_type": "code",
      "source": [
        "data.drop(list_single_cols+list_null_cols,axis=1,inplace=True)"
      ],
      "metadata": {
        "id": "fyTH9kZs_fnD"
      },
      "execution_count": null,
      "outputs": []
    },
    {
      "cell_type": "code",
      "source": [
        "data.columns"
      ],
      "metadata": {
        "colab": {
          "base_uri": "https://localhost:8080/"
        },
        "id": "cM791I4w_pcW",
        "outputId": "8f3338ac-7662-41b2-8298-529f244e5e64"
      },
      "execution_count": null,
      "outputs": [
        {
          "output_type": "execute_result",
          "data": {
            "text/plain": [
              "Index(['Station_Name', 'MAC_Address', 'Start_Date', 'Start_Time_Zone',\n",
              "       'End_Date', 'End_Time_Zone', 'Transaction_Date_(Pacific_Time)',\n",
              "       'Total_Duration_(hh:mm:ss)', 'Charging_Time_(hh:mm:ss)', 'Energy_(kWh)',\n",
              "       'GHG_Savings_(kg)', 'Gasoline_Savings_(gallons)', 'Port_Type',\n",
              "       'Port_Number', 'Plug_Type', 'Address_1', 'Latitude', 'Longitude',\n",
              "       'Ended_By', 'Plug_In_Event_Id', 'Driver_Postal_Code', 'User_ID'],\n",
              "      dtype='object')"
            ]
          },
          "metadata": {},
          "execution_count": 13
        }
      ]
    },
    {
      "cell_type": "code",
      "source": [
        "import pandas as pd\n",
        "import numpy as np\n",
        "from sklearn.model_selection import train_test_split, GridSearchCV\n",
        "from sklearn.linear_model import LinearRegression\n",
        "from sklearn.tree import DecisionTreeRegressor\n",
        "from sklearn.ensemble import RandomForestRegressor, GradientBoostingRegressor\n",
        "from sklearn.metrics import mean_absolute_error, mean_squared_error, r2_score\n",
        "\n",
        "# Feature engineering\n",
        "data['Transaction_Date'] = pd.to_datetime(data['Transaction_Date_(Pacific_Time)'])\n",
        "data['transaction_time'] = data['Transaction_Date'].apply(lambda x: x.timestamp())\n",
        "data['hour'] = data['Transaction_Date'].dt.hour\n",
        "data['dayofweek'] = data['Transaction_Date'].dt.dayofweek\n",
        "data['month'] = data['Transaction_Date'].dt.month\n",
        "data['season'] = (data['Transaction_Date'].dt.month % 12 + 3)//3\n",
        "data['is_weekend'] = np.where(data['dayofweek'] >= 5, 1, 0)"
      ],
      "metadata": {
        "id": "at9WJoVmBQGY"
      },
      "execution_count": null,
      "outputs": []
    },
    {
      "cell_type": "code",
      "source": [
        "# Data preprocessing\n",
        "data = data.drop(columns=[ 'MAC_Address', 'Start_Date', 'Start_Time_Zone', \n",
        "                          'End_Date', 'End_Time_Zone', 'Transaction_Date_(Pacific_Time)', \n",
        "                          'GHG_Savings_(kg)', 'Gasoline_Savings_(gallons)', 'Port_Type', \n",
        "                          'Plug_Type' , 'Address_1', \n",
        "                          'Ended_By', 'Plug_In_Event_Id', 'Driver_Postal_Code'])\n",
        "data['Total_Duration_(hh:mm:ss)'] = pd.to_timedelta(data['Total_Duration_(hh:mm:ss)']).dt.total_seconds()\n",
        "data['Charging_Time_(hh:mm:ss)'] = pd.to_timedelta(data['Charging_Time_(hh:mm:ss)']).dt.total_seconds()\n",
        "data['Energy_(kWh)'] = pd.to_numeric(data['Energy_(kWh)'])"
      ],
      "metadata": {
        "id": "4_c8aa67dAJ8"
      },
      "execution_count": null,
      "outputs": []
    },
    {
      "cell_type": "code",
      "source": [
        "data.columns"
      ],
      "metadata": {
        "colab": {
          "base_uri": "https://localhost:8080/"
        },
        "id": "NJkoqsj8dD_X",
        "outputId": "36a536f5-b640-4562-e974-bfb4d211b478"
      },
      "execution_count": null,
      "outputs": [
        {
          "output_type": "execute_result",
          "data": {
            "text/plain": [
              "Index(['Station_Name', 'Total_Duration_(hh:mm:ss)', 'Charging_Time_(hh:mm:ss)',\n",
              "       'Energy_(kWh)', 'Port_Number', 'Latitude', 'Longitude', 'User_ID',\n",
              "       'Transaction_Date', 'transaction_time', 'hour', 'dayofweek', 'month',\n",
              "       'season', 'is_weekend'],\n",
              "      dtype='object')"
            ]
          },
          "metadata": {},
          "execution_count": 16
        }
      ]
    },
    {
      "cell_type": "code",
      "source": [
        "data1=data[data['User_ID'].notnull()].copy(deep=True)"
      ],
      "metadata": {
        "id": "A9R5vv0x_SeO"
      },
      "execution_count": null,
      "outputs": []
    },
    {
      "cell_type": "code",
      "source": [
        "# Data split\n",
        "X = data.drop(columns=['Charging_Time_(hh:mm:ss)','Transaction_Date','Total_Duration_(hh:mm:ss)', 'User_ID'])\n",
        "y = data['Charging_Time_(hh:mm:ss)']\n",
        "X.columns"
      ],
      "metadata": {
        "colab": {
          "base_uri": "https://localhost:8080/"
        },
        "id": "65dXslYD-14e",
        "outputId": "547483a9-e6cb-4835-d95b-01db5ee89970"
      },
      "execution_count": null,
      "outputs": [
        {
          "output_type": "execute_result",
          "data": {
            "text/plain": [
              "Index(['Station_Name', 'Energy_(kWh)', 'Port_Number', 'Latitude', 'Longitude',\n",
              "       'transaction_time', 'hour', 'dayofweek', 'month', 'season',\n",
              "       'is_weekend'],\n",
              "      dtype='object')"
            ]
          },
          "metadata": {},
          "execution_count": 18
        }
      ]
    },
    {
      "cell_type": "code",
      "source": [
        "# Define the train-test split ratio\n",
        "train_ratio = 0.8\n",
        "train_size = int(len(X) * train_ratio)\n",
        "\n",
        "# Split the data into training and testing sets\n",
        "X_train, X_test = X[:train_size], X[train_size:]\n",
        "y_train, y_test = y[:train_size], y[train_size:]\n",
        "\n",
        "\n",
        "# Import the OneHotEncoder class\n",
        "from sklearn.preprocessing import OneHotEncoder\n",
        "\n",
        "# Create an instance of the OneHotEncoder\n",
        "encoder = OneHotEncoder(handle_unknown='ignore')\n",
        "\n",
        "# Fit the encoder on the 'Plug_Type' column\n",
        "encoder.fit(X_train[['Station_Name']])\n",
        "\n",
        "# Transform the 'Plug_Type' column using the encoder\n",
        "X_train_encoded = pd.DataFrame(encoder.transform(X_train[['Station_Name']]).toarray(), columns=encoder.get_feature_names_out(['Station_Name']))\n",
        "X_train_encoded.index = X_train.index\n",
        "\n",
        "# Concatenate the encoded 'Plug_Type' column with the rest of the X_train data\n",
        "X_train = pd.concat([X_train.drop(columns=['Station_Name']), X_train_encoded], axis=1)\n",
        "\n",
        "# Repeat the same process for X_test\n",
        "X_test_encoded = pd.DataFrame(encoder.transform(X_test[['Station_Name']]).toarray(), columns=encoder.get_feature_names_out(['Station_Name']))\n",
        "X_test_encoded.index = X_test.index\n",
        "X_test = pd.concat([X_test.drop(columns=['Station_Name']), X_test_encoded], axis=1)\n"
      ],
      "metadata": {
        "id": "l0eqkz7eQzUE"
      },
      "execution_count": null,
      "outputs": []
    },
    {
      "cell_type": "code",
      "source": [
        "# # Model selection and training\n",
        "# models = {'Random Forest Regression': RandomForestRegressor(random_state=42)}\n",
        "# for name, model in models.items():\n",
        "#     model.fit(X_train, y_train)\n",
        "#     y_pred = model.predict(X_test)\n",
        "#     print(f\"{name} - MAE: {mean_absolute_error(y_test, y_pred)}, MSE: {mean_squared_error(y_test, y_pred)}, R2: {r2_score(y_test, y_pred)}\")\n",
        "\n",
        "# y_pred = model.predict(X_test)"
      ],
      "metadata": {
        "id": "O9eOcqhTTaWg"
      },
      "execution_count": null,
      "outputs": []
    },
    {
      "cell_type": "code",
      "source": [
        "model=RandomForestRegressor(random_state=42)"
      ],
      "metadata": {
        "id": "0_oGF6PBgWGm"
      },
      "execution_count": null,
      "outputs": []
    },
    {
      "cell_type": "code",
      "source": [
        "from sklearn.metrics import mean_absolute_error, mean_squared_error, r2_score\n",
        "import numpy as np\n",
        "\n",
        "model.fit(X_train, y_train)\n",
        "y_pred = model.predict(X_test)\n",
        "\n",
        "mae = mean_absolute_error(y_test, y_pred)\n",
        "mse = mean_squared_error(y_test, y_pred)\n",
        "rmse = np.sqrt(mse)\n",
        "r2 = r2_score(y_test, y_pred)\n",
        "\n",
        "print(f\"MAE: {mae}, MSE: {mse}, RMSE: {rmse}, R2: {r2}\")"
      ],
      "metadata": {
        "colab": {
          "base_uri": "https://localhost:8080/"
        },
        "id": "MaXVaoX-gVo5",
        "outputId": "2ccf047d-504a-4756-f68d-72da8dee6dfc"
      },
      "execution_count": null,
      "outputs": [
        {
          "output_type": "stream",
          "name": "stdout",
          "text": [
            "MAE: 1496.3994950000001, MSE: 6934946.35090695, RMSE: 2633.428630304408, R2: 0.7384063301875837\n"
          ]
        }
      ]
    },
    {
      "cell_type": "code",
      "source": [
        "y_train_pred= model.predict(X_train)"
      ],
      "metadata": {
        "id": "aY27qypnFVEC"
      },
      "execution_count": null,
      "outputs": []
    },
    {
      "cell_type": "code",
      "source": [
        "mae = mean_absolute_error(y_train, y_train_pred)\n",
        "mse = mean_squared_error(y_train, y_train_pred)\n",
        "rmse = np.sqrt(mse)\n",
        "r2 = r2_score(y_train, y_train_pred)\n",
        "\n",
        "print(f\"MAE: {mae}, MSE: {mse}, RMSE: {rmse}, R2: {r2}\")\n"
      ],
      "metadata": {
        "colab": {
          "base_uri": "https://localhost:8080/"
        },
        "outputId": "7970a618-82c8-4cf6-8a59-9545dcc4ba64",
        "id": "HSy5DuyQFVEK"
      },
      "execution_count": null,
      "outputs": [
        {
          "output_type": "stream",
          "name": "stdout",
          "text": [
            "MAE: 344.52469308663586, MSE: 385770.9425873984, RMSE: 621.1046148495424, R2: 0.9842471081434068\n"
          ]
        }
      ]
    },
    {
      "cell_type": "code",
      "source": [
        "# Data split\n",
        "X = data1.drop(columns=['Charging_Time_(hh:mm:ss)','Transaction_Date','Total_Duration_(hh:mm:ss)'])\n",
        "y = data1['Charging_Time_(hh:mm:ss)']\n",
        "X.columns"
      ],
      "metadata": {
        "colab": {
          "base_uri": "https://localhost:8080/"
        },
        "outputId": "dbba5d02-4916-4c15-d55e-62e532fa150b",
        "id": "jbcoMtITDIwd"
      },
      "execution_count": null,
      "outputs": [
        {
          "output_type": "execute_result",
          "data": {
            "text/plain": [
              "Index(['Station_Name', 'Energy_(kWh)', 'Port_Number', 'Latitude', 'Longitude',\n",
              "       'User_ID', 'transaction_time', 'hour', 'dayofweek', 'month', 'season',\n",
              "       'is_weekend'],\n",
              "      dtype='object')"
            ]
          },
          "metadata": {},
          "execution_count": 25
        }
      ]
    },
    {
      "cell_type": "code",
      "source": [
        "X.head()"
      ],
      "metadata": {
        "colab": {
          "base_uri": "https://localhost:8080/",
          "height": 206
        },
        "outputId": "e5a3d114-7478-4b15-95dc-43d411879095",
        "id": "ogwoxuacDIwn"
      },
      "execution_count": null,
      "outputs": [
        {
          "output_type": "execute_result",
          "data": {
            "text/plain": [
              "                 Station_Name  Energy_(kWh)  Port_Number   Latitude  \\\n",
              "0  PALO ALTO CA / HAMILTON #1      6.249457            2  37.444572   \n",
              "1  PALO ALTO CA / HAMILTON #1      0.106588            2  37.444572   \n",
              "2  PALO ALTO CA / HAMILTON #1     14.951777            2  37.444572   \n",
              "3  PALO ALTO CA / HAMILTON #1      7.159643            2  37.444572   \n",
              "4  PALO ALTO CA / HAMILTON #1      1.957765            2  37.444572   \n",
              "\n",
              "    Longitude  User_ID  transaction_time  hour  dayofweek  month  season  \\\n",
              "0 -122.160309   3284.0      1.311982e+09    23          4      7       3   \n",
              "1 -122.160309   4169.0      1.311984e+09     0          5      7       3   \n",
              "2 -122.160309   4169.0      1.312029e+09    12          5      7       3   \n",
              "3 -122.160309   2545.0      1.312045e+09    16          5      7       3   \n",
              "4 -122.160309   3765.0      1.312056e+09    20          5      7       3   \n",
              "\n",
              "   is_weekend  \n",
              "0           0  \n",
              "1           1  \n",
              "2           1  \n",
              "3           1  \n",
              "4           1  "
            ],
            "text/html": [
              "\n",
              "  <div id=\"df-7f323670-9442-4e62-a216-befc97deaae2\">\n",
              "    <div class=\"colab-df-container\">\n",
              "      <div>\n",
              "<style scoped>\n",
              "    .dataframe tbody tr th:only-of-type {\n",
              "        vertical-align: middle;\n",
              "    }\n",
              "\n",
              "    .dataframe tbody tr th {\n",
              "        vertical-align: top;\n",
              "    }\n",
              "\n",
              "    .dataframe thead th {\n",
              "        text-align: right;\n",
              "    }\n",
              "</style>\n",
              "<table border=\"1\" class=\"dataframe\">\n",
              "  <thead>\n",
              "    <tr style=\"text-align: right;\">\n",
              "      <th></th>\n",
              "      <th>Station_Name</th>\n",
              "      <th>Energy_(kWh)</th>\n",
              "      <th>Port_Number</th>\n",
              "      <th>Latitude</th>\n",
              "      <th>Longitude</th>\n",
              "      <th>User_ID</th>\n",
              "      <th>transaction_time</th>\n",
              "      <th>hour</th>\n",
              "      <th>dayofweek</th>\n",
              "      <th>month</th>\n",
              "      <th>season</th>\n",
              "      <th>is_weekend</th>\n",
              "    </tr>\n",
              "  </thead>\n",
              "  <tbody>\n",
              "    <tr>\n",
              "      <th>0</th>\n",
              "      <td>PALO ALTO CA / HAMILTON #1</td>\n",
              "      <td>6.249457</td>\n",
              "      <td>2</td>\n",
              "      <td>37.444572</td>\n",
              "      <td>-122.160309</td>\n",
              "      <td>3284.0</td>\n",
              "      <td>1.311982e+09</td>\n",
              "      <td>23</td>\n",
              "      <td>4</td>\n",
              "      <td>7</td>\n",
              "      <td>3</td>\n",
              "      <td>0</td>\n",
              "    </tr>\n",
              "    <tr>\n",
              "      <th>1</th>\n",
              "      <td>PALO ALTO CA / HAMILTON #1</td>\n",
              "      <td>0.106588</td>\n",
              "      <td>2</td>\n",
              "      <td>37.444572</td>\n",
              "      <td>-122.160309</td>\n",
              "      <td>4169.0</td>\n",
              "      <td>1.311984e+09</td>\n",
              "      <td>0</td>\n",
              "      <td>5</td>\n",
              "      <td>7</td>\n",
              "      <td>3</td>\n",
              "      <td>1</td>\n",
              "    </tr>\n",
              "    <tr>\n",
              "      <th>2</th>\n",
              "      <td>PALO ALTO CA / HAMILTON #1</td>\n",
              "      <td>14.951777</td>\n",
              "      <td>2</td>\n",
              "      <td>37.444572</td>\n",
              "      <td>-122.160309</td>\n",
              "      <td>4169.0</td>\n",
              "      <td>1.312029e+09</td>\n",
              "      <td>12</td>\n",
              "      <td>5</td>\n",
              "      <td>7</td>\n",
              "      <td>3</td>\n",
              "      <td>1</td>\n",
              "    </tr>\n",
              "    <tr>\n",
              "      <th>3</th>\n",
              "      <td>PALO ALTO CA / HAMILTON #1</td>\n",
              "      <td>7.159643</td>\n",
              "      <td>2</td>\n",
              "      <td>37.444572</td>\n",
              "      <td>-122.160309</td>\n",
              "      <td>2545.0</td>\n",
              "      <td>1.312045e+09</td>\n",
              "      <td>16</td>\n",
              "      <td>5</td>\n",
              "      <td>7</td>\n",
              "      <td>3</td>\n",
              "      <td>1</td>\n",
              "    </tr>\n",
              "    <tr>\n",
              "      <th>4</th>\n",
              "      <td>PALO ALTO CA / HAMILTON #1</td>\n",
              "      <td>1.957765</td>\n",
              "      <td>2</td>\n",
              "      <td>37.444572</td>\n",
              "      <td>-122.160309</td>\n",
              "      <td>3765.0</td>\n",
              "      <td>1.312056e+09</td>\n",
              "      <td>20</td>\n",
              "      <td>5</td>\n",
              "      <td>7</td>\n",
              "      <td>3</td>\n",
              "      <td>1</td>\n",
              "    </tr>\n",
              "  </tbody>\n",
              "</table>\n",
              "</div>\n",
              "      <button class=\"colab-df-convert\" onclick=\"convertToInteractive('df-7f323670-9442-4e62-a216-befc97deaae2')\"\n",
              "              title=\"Convert this dataframe to an interactive table.\"\n",
              "              style=\"display:none;\">\n",
              "        \n",
              "  <svg xmlns=\"http://www.w3.org/2000/svg\" height=\"24px\"viewBox=\"0 0 24 24\"\n",
              "       width=\"24px\">\n",
              "    <path d=\"M0 0h24v24H0V0z\" fill=\"none\"/>\n",
              "    <path d=\"M18.56 5.44l.94 2.06.94-2.06 2.06-.94-2.06-.94-.94-2.06-.94 2.06-2.06.94zm-11 1L8.5 8.5l.94-2.06 2.06-.94-2.06-.94L8.5 2.5l-.94 2.06-2.06.94zm10 10l.94 2.06.94-2.06 2.06-.94-2.06-.94-.94-2.06-.94 2.06-2.06.94z\"/><path d=\"M17.41 7.96l-1.37-1.37c-.4-.4-.92-.59-1.43-.59-.52 0-1.04.2-1.43.59L10.3 9.45l-7.72 7.72c-.78.78-.78 2.05 0 2.83L4 21.41c.39.39.9.59 1.41.59.51 0 1.02-.2 1.41-.59l7.78-7.78 2.81-2.81c.8-.78.8-2.07 0-2.86zM5.41 20L4 18.59l7.72-7.72 1.47 1.35L5.41 20z\"/>\n",
              "  </svg>\n",
              "      </button>\n",
              "      \n",
              "  <style>\n",
              "    .colab-df-container {\n",
              "      display:flex;\n",
              "      flex-wrap:wrap;\n",
              "      gap: 12px;\n",
              "    }\n",
              "\n",
              "    .colab-df-convert {\n",
              "      background-color: #E8F0FE;\n",
              "      border: none;\n",
              "      border-radius: 50%;\n",
              "      cursor: pointer;\n",
              "      display: none;\n",
              "      fill: #1967D2;\n",
              "      height: 32px;\n",
              "      padding: 0 0 0 0;\n",
              "      width: 32px;\n",
              "    }\n",
              "\n",
              "    .colab-df-convert:hover {\n",
              "      background-color: #E2EBFA;\n",
              "      box-shadow: 0px 1px 2px rgba(60, 64, 67, 0.3), 0px 1px 3px 1px rgba(60, 64, 67, 0.15);\n",
              "      fill: #174EA6;\n",
              "    }\n",
              "\n",
              "    [theme=dark] .colab-df-convert {\n",
              "      background-color: #3B4455;\n",
              "      fill: #D2E3FC;\n",
              "    }\n",
              "\n",
              "    [theme=dark] .colab-df-convert:hover {\n",
              "      background-color: #434B5C;\n",
              "      box-shadow: 0px 1px 3px 1px rgba(0, 0, 0, 0.15);\n",
              "      filter: drop-shadow(0px 1px 2px rgba(0, 0, 0, 0.3));\n",
              "      fill: #FFFFFF;\n",
              "    }\n",
              "  </style>\n",
              "\n",
              "      <script>\n",
              "        const buttonEl =\n",
              "          document.querySelector('#df-7f323670-9442-4e62-a216-befc97deaae2 button.colab-df-convert');\n",
              "        buttonEl.style.display =\n",
              "          google.colab.kernel.accessAllowed ? 'block' : 'none';\n",
              "\n",
              "        async function convertToInteractive(key) {\n",
              "          const element = document.querySelector('#df-7f323670-9442-4e62-a216-befc97deaae2');\n",
              "          const dataTable =\n",
              "            await google.colab.kernel.invokeFunction('convertToInteractive',\n",
              "                                                     [key], {});\n",
              "          if (!dataTable) return;\n",
              "\n",
              "          const docLinkHtml = 'Like what you see? Visit the ' +\n",
              "            '<a target=\"_blank\" href=https://colab.research.google.com/notebooks/data_table.ipynb>data table notebook</a>'\n",
              "            + ' to learn more about interactive tables.';\n",
              "          element.innerHTML = '';\n",
              "          dataTable['output_type'] = 'display_data';\n",
              "          await google.colab.output.renderOutput(dataTable, element);\n",
              "          const docLink = document.createElement('div');\n",
              "          docLink.innerHTML = docLinkHtml;\n",
              "          element.appendChild(docLink);\n",
              "        }\n",
              "      </script>\n",
              "    </div>\n",
              "  </div>\n",
              "  "
            ]
          },
          "metadata": {},
          "execution_count": 26
        }
      ]
    },
    {
      "cell_type": "code",
      "source": [
        "#USER level transaction duration prediction"
      ],
      "metadata": {
        "id": "P9xaQ0Z5FzQ6"
      },
      "execution_count": null,
      "outputs": []
    },
    {
      "cell_type": "code",
      "source": [
        "# Define the train-test split ratio\n",
        "train_ratio = 0.8\n",
        "train_size = int(len(X) * train_ratio)\n",
        "\n",
        "# Split the data into training and testing sets\n",
        "X_train, X_test = X[:train_size], X[train_size:]\n",
        "y_train, y_test = y[:train_size], y[train_size:]\n",
        "\n",
        "\n",
        "# Import the OneHotEncoder class\n",
        "from sklearn.preprocessing import OneHotEncoder\n",
        "\n",
        "# Create an instance of the OneHotEncoder\n",
        "encoder = OneHotEncoder(handle_unknown='ignore')\n",
        "\n",
        "# Fit the encoder on the 'Plug_Type' column\n",
        "encoder.fit(X_train[['Station_Name']])\n",
        "\n",
        "# Transform the 'Plug_Type' column using the encoder\n",
        "X_train_encoded = pd.DataFrame(encoder.transform(X_train[['Station_Name']]).toarray(), columns=encoder.get_feature_names_out(['Station_Name']))\n",
        "X_train_encoded.index = X_train.index\n",
        "\n",
        "# Concatenate the encoded 'Plug_Type' column with the rest of the X_train data\n",
        "X_train = pd.concat([X_train.drop(columns=['Station_Name']), X_train_encoded], axis=1)\n",
        "\n",
        "# Repeat the same process for X_test\n",
        "X_test_encoded = pd.DataFrame(encoder.transform(X_test[['Station_Name']]).toarray(), columns=encoder.get_feature_names_out(['Station_Name']))\n",
        "X_test_encoded.index = X_test.index\n",
        "X_test = pd.concat([X_test.drop(columns=['Station_Name']), X_test_encoded], axis=1)\n"
      ],
      "metadata": {
        "id": "A6_6w1DLDIwn"
      },
      "execution_count": null,
      "outputs": []
    },
    {
      "cell_type": "code",
      "source": [
        "model=RandomForestRegressor(random_state=42)"
      ],
      "metadata": {
        "id": "wacbRGI4DIwo"
      },
      "execution_count": null,
      "outputs": []
    },
    {
      "cell_type": "code",
      "source": [
        "from sklearn.metrics import mean_absolute_error, mean_squared_error, r2_score\n",
        "import numpy as np\n",
        "\n",
        "model.fit(X_train, y_train)\n",
        "y_pred = model.predict(X_test)\n",
        "\n",
        "mae = mean_absolute_error(y_test, y_pred)\n",
        "mse = mean_squared_error(y_test, y_pred)\n",
        "rmse = np.sqrt(mse)\n",
        "r2 = r2_score(y_test, y_pred)\n",
        "\n",
        "print(f\"MAE: {mae}, MSE: {mse}, RMSE: {rmse}, R2: {r2}\")"
      ],
      "metadata": {
        "colab": {
          "base_uri": "https://localhost:8080/"
        },
        "outputId": "27083173-4681-4d39-a791-842bddbf75f4",
        "id": "aYAtvzc2DIwo"
      },
      "execution_count": null,
      "outputs": [
        {
          "output_type": "stream",
          "name": "stdout",
          "text": [
            "MAE: 1591.0117922606926, MSE: 10260128.971169246, RMSE: 3203.143607640664, R2: 0.5995388103637218\n"
          ]
        }
      ]
    },
    {
      "cell_type": "code",
      "source": [
        "X_train.shape"
      ],
      "metadata": {
        "colab": {
          "base_uri": "https://localhost:8080/"
        },
        "id": "veMn6rshLpEX",
        "outputId": "64e3d7b8-7dad-41a7-d5f3-282c9164bf97"
      },
      "execution_count": null,
      "outputs": [
        {
          "output_type": "execute_result",
          "data": {
            "text/plain": [
              "(7856, 16)"
            ]
          },
          "metadata": {},
          "execution_count": 31
        }
      ]
    },
    {
      "cell_type": "code",
      "source": [
        "X_test.shape"
      ],
      "metadata": {
        "colab": {
          "base_uri": "https://localhost:8080/"
        },
        "id": "AWy_lmUtLqlF",
        "outputId": "84c2b12d-03ad-4f96-c47a-4c68157bfadf"
      },
      "execution_count": null,
      "outputs": [
        {
          "output_type": "execute_result",
          "data": {
            "text/plain": [
              "(1964, 16)"
            ]
          },
          "metadata": {},
          "execution_count": 32
        }
      ]
    },
    {
      "cell_type": "code",
      "source": [
        "y_train_pred= model.predict(X_train)"
      ],
      "metadata": {
        "id": "XSsSaoRGjSr_"
      },
      "execution_count": null,
      "outputs": []
    },
    {
      "cell_type": "code",
      "source": [
        "mae = mean_absolute_error(y_train, y_train_pred)\n",
        "mse = mean_squared_error(y_train, y_train_pred)\n",
        "rmse = np.sqrt(mse)\n",
        "r2 = r2_score(y_train, y_train_pred)\n",
        "\n",
        "print(f\"MAE: {mae}, MSE: {mse}, RMSE: {rmse}, R2: {r2}\")\n"
      ],
      "metadata": {
        "colab": {
          "base_uri": "https://localhost:8080/"
        },
        "id": "udooWHLHJhuF",
        "outputId": "8699d4b8-397c-4a41-d2b0-359088489a6b"
      },
      "execution_count": null,
      "outputs": [
        {
          "output_type": "stream",
          "name": "stdout",
          "text": [
            "MAE: 287.8235819755601, MSE: 324632.15884569753, RMSE: 569.7650031773604, R2: 0.9867810321718944\n"
          ]
        }
      ]
    },
    {
      "cell_type": "code",
      "source": [
        "\n",
        "# # Model deployment\n",
        "# new_data = pd.DataFrame({\n",
        "#                          'transaction_time': [int(datetime.datetime.now().timestamp())],\n",
        "#                          'hour': [datetime.datetime.now().hour],\n",
        "#                          'dayofweek': [datetime.datetime.now().weekday()],\n",
        "#                          'month': [datetime.datetime.now().month],\n",
        "#                          'season': [(datetime.datetime.now().month % 12 + 3)//3]})\n",
        "# new_data['transaction_time'] = new_data['transaction_time'].astype(np.int64)\n",
        "# predicted_duration = model.predict(new_data)\n",
        "# print(f\"Predicted charging duration: {predicted_duration[0]} seconds\")"
      ],
      "metadata": {
        "id": "--TuWIa5RxIu"
      },
      "execution_count": null,
      "outputs": []
    },
    {
      "cell_type": "code",
      "source": [
        "data=pd.read_csv('PaloAltoev.csv')"
      ],
      "metadata": {
        "id": "zd31btzFKcoF"
      },
      "execution_count": null,
      "outputs": []
    },
    {
      "cell_type": "code",
      "source": [
        "data.columns"
      ],
      "metadata": {
        "colab": {
          "base_uri": "https://localhost:8080/"
        },
        "outputId": "9bdcca9d-edd9-4599-9525-3cf0c88d5409",
        "id": "MPtQqfiQKxtu"
      },
      "execution_count": null,
      "outputs": [
        {
          "output_type": "execute_result",
          "data": {
            "text/plain": [
              "Index(['Station Name', 'MAC Address', 'Org Name', 'Start Date',\n",
              "       'Start Time Zone', 'End Date', 'End Time Zone',\n",
              "       'Transaction Date (Pacific Time)', 'Total Duration (hh:mm:ss)',\n",
              "       'Charging Time (hh:mm:ss)', 'Energy (kWh)', 'GHG Savings (kg)',\n",
              "       'Gasoline Savings (gallons)', 'Port Type', 'Port Number', 'Plug Type',\n",
              "       'EVSE ID', 'Address 1', 'City', 'State/Province', 'Postal Code',\n",
              "       'Country', 'Latitude', 'Longitude', 'Currency', 'Fee', 'Ended By',\n",
              "       'Plug In Event Id', 'Driver Postal Code', 'User ID', 'County',\n",
              "       'System S/N', 'Model Number'],\n",
              "      dtype='object')"
            ]
          },
          "metadata": {},
          "execution_count": 37
        }
      ]
    },
    {
      "cell_type": "code",
      "source": [
        "data.columns=data.columns.str.replace(' ','_')"
      ],
      "metadata": {
        "id": "4qwpSuuGKxtw"
      },
      "execution_count": null,
      "outputs": []
    },
    {
      "cell_type": "code",
      "source": [
        "list_null_cols= []\n",
        "for i in data.columns:\n",
        "    if data[i].isna().sum() == data.shape[0]:\n",
        "        list_null_cols.append(i)"
      ],
      "metadata": {
        "id": "KYBkT9ncKxtx"
      },
      "execution_count": null,
      "outputs": []
    },
    {
      "cell_type": "code",
      "source": [
        "list_single_cols = []\n",
        "for i in data.columns:\n",
        "    if data[i].nunique() == 1:\n",
        "        list_single_cols.append(i)"
      ],
      "metadata": {
        "id": "OC6iAZj7Kxtx"
      },
      "execution_count": null,
      "outputs": []
    },
    {
      "cell_type": "code",
      "source": [
        "data.drop(list_single_cols+list_null_cols,axis=1,inplace=True)"
      ],
      "metadata": {
        "id": "XsAJNmnZKxtx"
      },
      "execution_count": null,
      "outputs": []
    },
    {
      "cell_type": "code",
      "source": [
        "import pandas as pd\n",
        "import numpy as np\n",
        "from sklearn.model_selection import train_test_split\n",
        "from sklearn.linear_model import LinearRegression\n",
        "from sklearn.metrics import mean_absolute_error, mean_squared_error, r2_score\n",
        "\n",
        "\n",
        "# Feature engineering\n",
        "data['Transaction_Date'] = pd.to_datetime(data['Transaction_Date_(Pacific_Time)'])\n",
        "data['transaction_time'] = data['Transaction_Date'].apply(lambda x: x.timestamp())\n",
        "data['hour'] = data['Transaction_Date'].dt.hour\n",
        "data['dayofweek'] = data['Transaction_Date'].dt.dayofweek\n",
        "data['month'] = data['Transaction_Date'].dt.month\n",
        "data['season'] = (data['Transaction_Date'].dt.month % 12 + 3)//3\n",
        "data['is_weekend'] = np.where(data['dayofweek'] >= 5, 1, 0)\n",
        "\n",
        "# Data preprocessing\n",
        "data = data.drop(columns=[ 'MAC_Address', 'Start_Date', 'Start_Time_Zone', \n",
        "                          'End_Date', 'End_Time_Zone', 'Transaction_Date_(Pacific_Time)', \n",
        "                          'GHG_Savings_(kg)', 'Gasoline_Savings_(gallons)', 'Port_Type', \n",
        "                          'Plug_Type' , 'Address_1', \n",
        "                          'Ended_By', 'Plug_In_Event_Id', 'Driver_Postal_Code', 'User_ID'])\n",
        "data['Total_Duration_(hh:mm:ss)'] = pd.to_timedelta(data['Total_Duration_(hh:mm:ss)']).dt.total_seconds()\n",
        "data['Charging_Time_(hh:mm:ss)'] = pd.to_timedelta(data['Charging_Time_(hh:mm:ss)']).dt.total_seconds()\n",
        "data['Energy_(kWh)'] = pd.to_numeric(data['Energy_(kWh)'])"
      ],
      "metadata": {
        "id": "fmRfXmiylshF"
      },
      "execution_count": null,
      "outputs": []
    },
    {
      "cell_type": "code",
      "source": [
        "# Hourly demand\n",
        "X_hourly = data.groupby(['Station_Name', 'Port_Number', 'Latitude', 'Longitude',\n",
        "      'hour', 'dayofweek', 'month', 'season',\n",
        "       'is_weekend']).agg({'Energy_(kWh)':'sum'}).reset_index()\n",
        "y_hourly = data.groupby(['Station_Name', 'Port_Number', 'Latitude', 'Longitude',\n",
        "      'hour', 'dayofweek', 'month', 'season',\n",
        "       'is_weekend'])[['Charging_Time_(hh:mm:ss)']].sum().reset_index()['Charging_Time_(hh:mm:ss)']"
      ],
      "metadata": {
        "id": "-rPww6QpOxKn"
      },
      "execution_count": null,
      "outputs": []
    },
    {
      "cell_type": "code",
      "source": [
        "X.columns"
      ],
      "metadata": {
        "id": "-ybq-pqzh3Qm",
        "outputId": "1858a97c-c1f1-4173-d112-6db28330377c",
        "colab": {
          "base_uri": "https://localhost:8080/"
        }
      },
      "execution_count": null,
      "outputs": [
        {
          "output_type": "execute_result",
          "data": {
            "text/plain": [
              "Index(['Station_Name', 'Energy_(kWh)', 'Port_Number', 'Latitude', 'Longitude',\n",
              "       'User_ID', 'transaction_time', 'hour', 'dayofweek', 'month', 'season',\n",
              "       'is_weekend'],\n",
              "      dtype='object')"
            ]
          },
          "metadata": {},
          "execution_count": 44
        }
      ]
    },
    {
      "cell_type": "code",
      "source": [
        "y_hourly.shape"
      ],
      "metadata": {
        "colab": {
          "base_uri": "https://localhost:8080/"
        },
        "id": "7v3JNeVrX10c",
        "outputId": "04b81f76-5cd7-491b-b4a9-2da5e2798454"
      },
      "execution_count": null,
      "outputs": [
        {
          "output_type": "execute_result",
          "data": {
            "text/plain": [
              "(6162,)"
            ]
          },
          "metadata": {},
          "execution_count": 45
        }
      ]
    },
    {
      "cell_type": "code",
      "source": [
        "# Define the train-test split ratio\n",
        "train_ratio = 0.8\n",
        "train_size = int(len(X_hourly) * train_ratio)\n",
        "\n",
        "# Split the data into training and testing sets\n",
        "X_train_hourly, X_test_hourly = X_hourly[:train_size], X_hourly[train_size:]\n",
        "y_train_hourly, y_test_hourly = y_hourly[:train_size], y_hourly[train_size:]\n",
        "\n",
        "\n",
        "# Import the OneHotEncoder class\n",
        "from sklearn.preprocessing import OneHotEncoder\n",
        "\n",
        "# Create an instance of the OneHotEncoder\n",
        "encoder = OneHotEncoder(handle_unknown='ignore')\n",
        "\n",
        "# Fit the encoder on the 'Plug_Type' column\n",
        "encoder.fit(X_train_hourly[['Station_Name']])\n",
        "\n",
        "# Transform the 'Plug_Type' column using the encoder\n",
        "X_train_hourly_encoded = pd.DataFrame(encoder.transform(X_train_hourly[['Station_Name']]).toarray(), columns=encoder.get_feature_names_out(['Station_Name']))\n",
        "X_train_hourly_encoded.index = X_train_hourly.index\n",
        "\n",
        "# Concatenate the encoded 'Plug_Type' column with the rest of the X_train_hourly data\n",
        "X_train_hourly = pd.concat([X_train_hourly.drop(columns=['Station_Name']), X_train_hourly_encoded], axis=1)\n",
        "\n",
        "# Repeat the same process for X_test_hourly\n",
        "X_test_hourly_encoded = pd.DataFrame(encoder.transform(X_test_hourly[['Station_Name']]).toarray(), columns=encoder.get_feature_names_out(['Station_Name']))\n",
        "X_test_hourly_encoded.index = X_test_hourly.index\n",
        "X_test_hourly = pd.concat([X_test_hourly.drop(columns=['Station_Name']), X_test_hourly_encoded], axis=1)\n",
        "\n",
        "model_hourly = RandomForestRegressor(random_state=42)\n",
        "model_hourly.fit(X_train_hourly, y_train_hourly)\n",
        "y_pred_hourly = model_hourly.predict(X_test_hourly)\n",
        "\n",
        "print(f\"Hourly model - MAE: {mean_absolute_error(y_test_hourly, y_pred_hourly)}, MSE: {mean_squared_error(y_test_hourly, y_pred_hourly)}, R2: {r2_score(y_test_hourly, y_pred_hourly)}\")\n"
      ],
      "metadata": {
        "colab": {
          "base_uri": "https://localhost:8080/"
        },
        "id": "BpHk1wpzSr2s",
        "outputId": "21c5f109-59dd-4a24-8e51-0ebed9b36ab3"
      },
      "execution_count": null,
      "outputs": [
        {
          "output_type": "stream",
          "name": "stdout",
          "text": [
            "Hourly model - MAE: 1610.7722465531224, MSE: 6578578.427750203, R2: 0.913193107880851\n"
          ]
        }
      ]
    },
    {
      "cell_type": "code",
      "source": [
        "# daily demand\n",
        "X_daily = data.groupby(['Station_Name', 'Port_Number', 'Latitude', 'Longitude',\n",
        "       'dayofweek', 'month', 'season',\n",
        "       'is_weekend']).agg({'Energy_(kWh)':'sum'}).reset_index()\n",
        "y_daily = data.groupby(['Station_Name', 'Port_Number', 'Latitude', 'Longitude', 'dayofweek', 'month', 'season',\n",
        "       'is_weekend'])[['Charging_Time_(hh:mm:ss)']].sum().reset_index()['Charging_Time_(hh:mm:ss)']\n",
        "\n",
        "# Define the train-test split ratio\n",
        "train_ratio = 0.8\n",
        "train_size = int(len(X_daily) * train_ratio)\n",
        "\n",
        "# Split the data into training and testing sets\n",
        "X_train_daily, X_test_daily = X_daily[:train_size], X_daily[train_size:]\n",
        "y_train_daily, y_test_daily = y_daily[:train_size], y_daily[train_size:]\n",
        "\n",
        "\n",
        "# Import the OneHotEncoder class\n",
        "from sklearn.preprocessing import OneHotEncoder\n",
        "\n",
        "# Create an instance of the OneHotEncoder\n",
        "encoder = OneHotEncoder(handle_unknown='ignore')\n",
        "\n",
        "# Fit the encoder on the 'Plug_Type' column\n",
        "encoder.fit(X_train_daily[['Station_Name']])\n",
        "\n",
        "# Transform the 'Plug_Type' column using the encoder\n",
        "X_train_daily_encoded = pd.DataFrame(encoder.transform(X_train_daily[['Station_Name']]).toarray(), columns=encoder.get_feature_names_out(['Station_Name']))\n",
        "X_train_daily_encoded.index = X_train_daily.index\n",
        "\n",
        "# Concatenate the encoded 'Plug_Type' column with the rest of the X_train_daily data\n",
        "X_train_daily = pd.concat([X_train_daily.drop(columns=['Station_Name']), X_train_daily_encoded], axis=1)\n",
        "\n",
        "# Repeat the same process for X_test_daily\n",
        "X_test_daily_encoded = pd.DataFrame(encoder.transform(X_test_daily[['Station_Name']]).toarray(), columns=encoder.get_feature_names_out(['Station_Name']))\n",
        "X_test_daily_encoded.index = X_test_daily.index\n",
        "X_test_daily = pd.concat([X_test_daily.drop(columns=['Station_Name']), X_test_daily_encoded], axis=1)\n",
        "\n",
        "model_daily = RandomForestRegressor(random_state=42)\n",
        "model_daily.fit(X_train_daily, y_train_daily)\n",
        "y_pred_daily = model_daily.predict(X_test_daily)\n",
        "\n",
        "print(f\"Daily model - MAE: {mean_absolute_error(y_test_daily, y_pred_daily)}, MSE: {mean_squared_error(y_test_daily, y_pred_daily)}, R2: {r2_score(y_test_daily, y_pred_daily)}\")\n"
      ],
      "metadata": {
        "colab": {
          "base_uri": "https://localhost:8080/"
        },
        "id": "d0iEHTLWW6SY",
        "outputId": "4027903b-cad9-49d9-d5a9-f07678b9df19"
      },
      "execution_count": null,
      "outputs": [
        {
          "output_type": "stream",
          "name": "stdout",
          "text": [
            "Daily model - MAE: 8580.354088050315, MSE: 142349552.94873336, R2: 0.97662863802374\n"
          ]
        }
      ]
    },
    {
      "cell_type": "code",
      "source": [
        "data['week_number'] = ((data['Transaction_Date'] - data['Transaction_Date'].min()) / np.timedelta64(1, 'W')).astype(int)\n"
      ],
      "metadata": {
        "id": "x6gmJHwMW8mc"
      },
      "execution_count": null,
      "outputs": []
    },
    {
      "cell_type": "code",
      "source": [
        "# weekly demand\n",
        "X_weekly = data.groupby(['Station_Name', 'Port_Number', 'Latitude', 'Longitude',\n",
        "       'week_number', 'month', 'season']).agg({'Energy_(kWh)':'sum'}).reset_index()\n",
        "y_weekly = data.groupby(['Station_Name', 'Port_Number', 'Latitude', 'Longitude', 'week_number', 'month', 'season'])[['Charging_Time_(hh:mm:ss)']].sum().reset_index()['Charging_Time_(hh:mm:ss)']\n",
        "\n",
        "# Define the train-test split ratio\n",
        "train_ratio = 0.8\n",
        "train_size = int(len(X_weekly) * train_ratio)\n",
        "\n",
        "# Split the data into training and testing sets\n",
        "X_train_weekly, X_test_weekly = X_weekly[:train_size], X_weekly[train_size:]\n",
        "y_train_weekly, y_test_weekly = y_weekly[:train_size], y_weekly[train_size:]\n",
        "\n",
        "\n",
        "# Import the OneHotEncoder class\n",
        "from sklearn.preprocessing import OneHotEncoder\n",
        "\n",
        "# Create an instance of the OneHotEncoder\n",
        "encoder = OneHotEncoder(handle_unknown='ignore')\n",
        "\n",
        "# Fit the encoder on the 'Plug_Type' column\n",
        "encoder.fit(X_train_weekly[['Station_Name']])\n",
        "\n",
        "# Transform the 'Plug_Type' column using the encoder\n",
        "X_train_weekly_encoded = pd.DataFrame(encoder.transform(X_train_weekly[['Station_Name']]).toarray(), columns=encoder.get_feature_names_out(['Station_Name']))\n",
        "X_train_weekly_encoded.index = X_train_weekly.index\n",
        "\n",
        "# Concatenate the encoded 'Plug_Type' column with the rest of the X_train_weekly data\n",
        "X_train_weekly = pd.concat([X_train_weekly.drop(columns=['Station_Name']), X_train_weekly_encoded], axis=1)\n",
        "\n",
        "# Repeat the same process for X_test_weekly\n",
        "X_test_weekly_encoded = pd.DataFrame(encoder.transform(X_test_weekly[['Station_Name']]).toarray(), columns=encoder.get_feature_names_out(['Station_Name']))\n",
        "X_test_weekly_encoded.index = X_test_weekly.index\n",
        "X_test_weekly = pd.concat([X_test_weekly.drop(columns=['Station_Name']), X_test_weekly_encoded], axis=1)\n",
        "\n",
        "model_weekly = RandomForestRegressor(random_state=42)\n",
        "model_weekly.fit(X_train_weekly, y_train_weekly)\n",
        "y_pred_weekly = model_weekly.predict(X_test_weekly)\n",
        "\n",
        "print(f\"weekly model - MAE: {mean_absolute_error(y_test_weekly, y_pred_weekly)}, MSE: {mean_squared_error(y_test_weekly, y_pred_weekly)}, R2: {r2_score(y_test_weekly, y_pred_weekly)}\")\n"
      ],
      "metadata": {
        "colab": {
          "base_uri": "https://localhost:8080/"
        },
        "id": "1w0ssWTTZfAk",
        "outputId": "8a65fd7b-92b8-48b7-be06-cff15288e3ca"
      },
      "execution_count": null,
      "outputs": [
        {
          "output_type": "stream",
          "name": "stdout",
          "text": [
            "weekly model - MAE: 9227.391249999999, MSE: 166589513.3238528, R2: 0.9757876165846817\n"
          ]
        }
      ]
    },
    {
      "cell_type": "code",
      "source": [
        "# # Assuming your X and y data are stored in pandas DataFrame or array-like objects\n",
        "# import statsmodels.api as sm\n",
        "\n",
        "# # Model training and evaluation\n",
        "# for i in range(len(X_test)):\n",
        "#     # Train the model using data up to the current time step\n",
        "#     X_train_current = X_train[:train_size+i]\n",
        "#     y_train_current = y_train[:train_size+i]\n",
        "\n",
        "#     # Fit SARIMA model\n",
        "#     sarima_model = sm.tsa.statespace.SARIMAX(y_train_current, order=(p, d, q), seasonal_order=(P, D, Q, S)).fit()\n",
        "\n",
        "#     # Forecast the next time step\n",
        "#     y_pred = sarima_model.predict(start=len(X_train_current), end=len(X_train_current))\n",
        "\n",
        "#     # Evaluate the model for the current time step\n",
        "#     mae = np.abs(y_pred - y_test[i])\n",
        "#     rmse = np.sqrt((y_pred - y_test[i]) ** 2)\n",
        "\n",
        "#     # Update the training data with the current time step\n",
        "#     X_train = X_train.append(X_test.iloc[[i]])\n",
        "#     y_train = y_train.append(pd.Series(y_test[i]))\n"
      ],
      "metadata": {
        "id": "-2KzP18gqL-C"
      },
      "execution_count": null,
      "outputs": []
    },
    {
      "cell_type": "code",
      "source": [
        "# pip install fbprophet"
      ],
      "metadata": {
        "id": "9GdSiyHsKaeH"
      },
      "execution_count": null,
      "outputs": []
    },
    {
      "cell_type": "code",
      "source": [
        "# from fbprophet import Prophet\n",
        "\n",
        "# # Assuming your X and y data are stored in pandas DataFrame or array-like objects\n",
        "# # Create a DataFrame for Prophet with 'ds' as the time column and 'y' as the target variable\n",
        "# prophet_data = pd.DataFrame({'ds': X['transaction_time'], 'y': y})\n",
        "\n",
        "# # Fit Prophet model\n",
        "# prophet_model = Prophet()\n",
        "# prophet_model.fit(prophet_data)\n",
        "\n",
        "# # Make future predictions\n",
        "# future = prophet_model.make_future_dataframe(periods=len(X_test))\n",
        "# forecast = prophet_model.predict(future)\n",
        "\n",
        "# # Extract the predicted values\n",
        "# y_pred = forecast['yhat'][train_size:]\n",
        "\n",
        "# # Evaluate the model\n",
        "# mae = np.mean(np.abs(y_pred - y_test))\n",
        "# rmse = np.sqrt(np.mean((y_pred - y_test) ** 2))\n"
      ],
      "metadata": {
        "id": "8s9-GX-nqOA-"
      },
      "execution_count": null,
      "outputs": []
    },
    {
      "cell_type": "code",
      "source": [
        "# import tensorflow as tf\n",
        "# from tensorflow.keras.models import Sequential\n",
        "# from tensorflow.keras.layers import LSTM, Dense\n",
        "\n",
        "# # Assuming your X and y data are stored in pandas DataFrame or array-like objects\n",
        "# # Split the data into training and testing sets\n",
        "# train_size = int(len(X) * 0.8)\n",
        "# X_train, X_test = X[:train_size], X[train_size:]\n",
        "# y_train, y_test = y[:train_size], y[train_size:]\n",
        "\n",
        "# # Reshape the input data for LSTM (assuming 3D input shape [samples, timesteps, features])\n",
        "# X_train = np.reshape(X_train, (X_train.shape[0], 1, X_train.shape[1]))\n",
        "# X_test = np.reshape(X_test, (X_test.shape[0], 1, X_test.shape[1]))\n",
        "\n",
        "# # Build the LSTM model\n",
        "# model = Sequential()\n",
        "# model.add(LSTM(units=64, input_shape=(1, X_train.shape[2])))\n",
        "# model.add(Dense(units=1))\n",
        "\n",
        "# # Compile the model\n",
        "# model.compile(loss='mean_squared_error', optimizer='adam')\n",
        "\n",
        "# # Train the model\n",
        "# model.fit(X_train, y_train, epochs=10, batch_size=32)\n",
        "\n",
        "# # Make predictions\n",
        "# y_pred = model.predict(X_test)\n",
        "\n",
        "# # Flatten the predicted values\n",
        "# y_pred = y_pred.flatten()\n",
        "\n",
        "# # Evaluate the model\n",
        "# mae = np.mean(np.abs(y_pred - y_test))\n",
        "# rmse = np.sqrt(np.mean((y_pred - y_test) ** 2))\n"
      ],
      "metadata": {
        "id": "yDG99WQ3qOlT"
      },
      "execution_count": null,
      "outputs": []
    },
    {
      "cell_type": "code",
      "source": [],
      "metadata": {
        "id": "90rBSuCay-5T"
      },
      "execution_count": null,
      "outputs": []
    },
    {
      "cell_type": "code",
      "source": [
        "import matplotlib.pyplot as plt\n",
        "import numpy as np\n",
        "\n",
        "# Sort the data based on y_test_hourly\n",
        "sorted_indices = np.argsort(y_test_hourly)\n",
        "y_test_hourly_sorted = y_test_hourly.iloc[sorted_indices]\n",
        "y_pred_hourly_sorted = y_pred_hourly[sorted_indices]\n",
        "\n",
        "# Create a line chart comparing y_test_hourly and y_pred_hourly\n",
        "# plt.figure(figsize=(20, 10))\n",
        "\n",
        "plt.plot(y_test_hourly_sorted.values, label='True Values', linestyle='--')\n",
        "plt.plot(y_pred_hourly_sorted, label='Predicted Values', linestyle='-')\n",
        "\n",
        "plt.xlabel('Index (sorted by True Values)')\n",
        "plt.ylabel('Values')\n",
        "plt.title('True Values vs Predicted Values for Hourly Model')\n",
        "plt.legend()\n",
        "# Create a figure with a larger size\n",
        "plt.show()\n"
      ],
      "metadata": {
        "colab": {
          "base_uri": "https://localhost:8080/",
          "height": 472
        },
        "id": "2AbLj41vxZvf",
        "outputId": "d47e2896-9af7-4f15-95a3-d495b0a58d76"
      },
      "execution_count": null,
      "outputs": [
        {
          "output_type": "display_data",
          "data": {
            "text/plain": [
              "<Figure size 640x480 with 1 Axes>"
            ],
            "image/png": "[encoded data removed]"
          },
          "metadata": {}
        }
      ]
    },
    {
      "cell_type": "code",
      "source": [
        "import matplotlib.pyplot as plt\n",
        "import numpy as np\n",
        "\n",
        "# Sort the data based on y_test_daily\n",
        "sorted_indices = np.argsort(y_test_daily)\n",
        "y_test_daily_sorted = y_test_daily.iloc[sorted_indices]\n",
        "y_pred_daily_sorted = y_pred_daily[sorted_indices]\n",
        "\n",
        "# Create a line chart comparing y_test_daily and y_pred_daily\n",
        "# plt.figure(figsize=(20, 10))\n",
        "\n",
        "plt.plot(y_test_daily_sorted.values, label='True Values', linestyle='--')\n",
        "plt.plot(y_pred_daily_sorted, label='Predicted Values', linestyle='-')\n",
        "\n",
        "plt.xlabel('Index (sorted by True Values)')\n",
        "plt.ylabel('Values')\n",
        "plt.title('True Values vs Predicted Values for Daily Model')\n",
        "plt.legend()\n",
        "# Create a figure with a larger size\n",
        "plt.show()\n"
      ],
      "metadata": {
        "colab": {
          "base_uri": "https://localhost:8080/",
          "height": 472
        },
        "id": "HeDtW5uuvMfR",
        "outputId": "0b9a5cde-70a3-4ce0-c683-c3ce5cdbc178"
      },
      "execution_count": null,
      "outputs": [
        {
          "output_type": "display_data",
          "data": {
            "text/plain": [
              "<Figure size 640x480 with 1 Axes>"
            ],
            "image/png": "[encoded data removed]"
          },
          "metadata": {}
        }
      ]
    },
    {
      "cell_type": "code",
      "source": [
        "import matplotlib.pyplot as plt\n",
        "import numpy as np\n",
        "\n",
        "# Sort the data based on y_test_weekly\n",
        "sorted_indices = np.argsort(y_test_weekly)\n",
        "y_test_weekly_sorted = y_test_weekly.iloc[sorted_indices]\n",
        "y_pred_weekly_sorted = y_pred_weekly[sorted_indices]\n",
        "\n",
        "# Create a line chart comparing y_test_weekly and y_pred_weekly\n",
        "# plt.figure(figsize=(20, 10))\n",
        "\n",
        "plt.plot(y_test_weekly_sorted.values, label='True Values', linestyle='--')\n",
        "plt.plot(y_pred_weekly_sorted, label='Predicted Values', linestyle='-')\n",
        "\n",
        "plt.xlabel('Index (sorted by True Values)')\n",
        "plt.ylabel('Values')\n",
        "plt.title('True Values vs Predicted Values for Weekly Model')\n",
        "plt.legend()\n",
        "# Create a figure with a larger size\n",
        "plt.show()\n"
      ],
      "metadata": {
        "colab": {
          "base_uri": "https://localhost:8080/",
          "height": 472
        },
        "id": "XIVCDiCPxQsY",
        "outputId": "394ffc9e-0943-471c-dc82-3190e97eca7a"
      },
      "execution_count": null,
      "outputs": [
        {
          "output_type": "display_data",
          "data": {
            "text/plain": [
              "<Figure size 640x480 with 1 Axes>"
            ],
            "image/png": "[encoded data removed]"
          },
          "metadata": {}
        }
      ]
    }
  ]
}
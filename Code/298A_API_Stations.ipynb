{
  "nbformat": 4,
  "nbformat_minor": 0,
  "metadata": {
    "colab": {
      "provenance": []
    },
    "kernelspec": {
      "name": "python3",
      "display_name": "Python 3"
    },
    "language_info": {
      "name": "python"
    }
  },
  "cells": [
    {
      "cell_type": "code",
      "source": [
        "import pandas as pd\n",
        "import numpy as np"
      ],
      "metadata": {
        "id": "4evzcMraLxwE"
      },
      "execution_count": null,
      "outputs": []
    },
    {
      "cell_type": "markdown",
      "source": [],
      "metadata": {
        "id": "qpU8rKCxdwRO"
      }
    },
    {
      "cell_type": "code",
      "execution_count": null,
      "metadata": {
        "id": "nBJSRmi7LlEG"
      },
      "outputs": [],
      "source": [
        "import requests\n",
        "import pandas as pd\n",
        "\n",
        "api_key = 'dMlhEPf9ygVdsnK1fGe4v8cAAmxTKesksyQkHuLk'\n",
        "url = 'https://developer.nrel.gov/api/alt-fuel-stations/v1.json'\n",
        "\n",
        "parameters = {\n",
        "    'api_key': api_key,\n",
        "    'fuel_type': 'ELEC',\n",
        "    'state': 'CA',\n",
        "}\n",
        "\n",
        "response = requests.get(url, params=parameters)\n",
        "\n",
        "if response.status_code == 200:\n",
        "    # convert JSON data to DataFrame\n",
        "    data = response.json()\n",
        "    df_elec = pd.json_normalize(data['fuel_stations'])\n",
        "    # save DataFrame as CSV file\n",
        "    #df.to_csv('alt_fuel_stations.csv', index=False)\n",
        "else:\n",
        "    print('Error:', response.status_code)\n"
      ]
    },
    {
      "cell_type": "code",
      "source": [
        "import requests\n",
        "import pandas as pd\n",
        "\n",
        "api_key = 'dMlhEPf9ygVdsnK1fGe4v8cAAmxTKesksyQkHuLk'\n",
        "url = 'https://developer.nrel.gov/api/alt-fuel-stations/v1.json'\n",
        "\n",
        "parameters = {\n",
        "    'api_key': api_key,\n",
        "    'state': 'CA',\n",
        "}\n",
        "\n",
        "response = requests.get(url, params=parameters)\n",
        "\n",
        "if response.status_code == 200:\n",
        "    # convert JSON data to DataFrame\n",
        "    data = response.json()\n",
        "    df_all = pd.json_normalize(data['fuel_stations'])\n",
        "    # save DataFrame as CSV file\n",
        "    #df.to_csv('alt_fuel_stations.csv', index=False)\n",
        "else:\n",
        "    print('Error:', response.status_code)\n"
      ],
      "metadata": {
        "id": "acanaYvBOm3F"
      },
      "execution_count": null,
      "outputs": []
    },
    {
      "cell_type": "code",
      "source": [
        "df_elec.isna().sum()"
      ],
      "metadata": {
        "colab": {
          "base_uri": "https://localhost:8080/"
        },
        "id": "h2n8062cPW_6",
        "outputId": "1b6d80aa-2f8a-41ee-9076-1d9bd85fb38a"
      },
      "execution_count": null,
      "outputs": [
        {
          "output_type": "execute_result",
          "data": {
            "text/plain": [
              "access_code                   0\n",
              "access_days_time           1756\n",
              "access_detail_code        15521\n",
              "cards_accepted            15486\n",
              "date_last_confirmed           3\n",
              "                          ...  \n",
              "ev_network_ids.station     2378\n",
              "ev_network_ids.posts       3079\n",
              "federal_agency.id         15932\n",
              "federal_agency.code       15932\n",
              "federal_agency.name       15932\n",
              "Length: 74, dtype: int64"
            ]
          },
          "metadata": {},
          "execution_count": 4
        }
      ]
    },
    {
      "cell_type": "code",
      "source": [
        "df_elec_filtered=df_elec[['station_name','latitude', 'longitude', 'city', 'zip', 'ev_dc_fast_num',\n",
        "       'ev_level1_evse_num', 'ev_level2_evse_num', 'ev_network']].copy(deep=True)"
      ],
      "metadata": {
        "id": "afcTxtPOQBoX"
      },
      "execution_count": null,
      "outputs": []
    },
    {
      "cell_type": "code",
      "source": [
        "from sklearn.cluster import KMeans\n"
      ],
      "metadata": {
        "id": "z5IvaZqZT2Tu"
      },
      "execution_count": null,
      "outputs": []
    },
    {
      "cell_type": "code",
      "source": [
        "df_elec_filtered.isna().sum()"
      ],
      "metadata": {
        "colab": {
          "base_uri": "https://localhost:8080/"
        },
        "id": "USc4xevDUBbx",
        "outputId": "6c0492cd-69ba-404d-d0cc-219588daba43"
      },
      "execution_count": null,
      "outputs": [
        {
          "output_type": "execute_result",
          "data": {
            "text/plain": [
              "station_name              0\n",
              "latitude                  0\n",
              "longitude                 0\n",
              "city                      0\n",
              "zip                       0\n",
              "ev_dc_fast_num        14211\n",
              "ev_level1_evse_num    16056\n",
              "ev_level2_evse_num     1698\n",
              "ev_network                0\n",
              "dtype: int64"
            ]
          },
          "metadata": {},
          "execution_count": 7
        }
      ]
    },
    {
      "cell_type": "code",
      "source": [
        "df_elec_filtered['ev_dc_fast_num'] = df_elec_filtered['ev_dc_fast_num'].fillna(df_elec_filtered['ev_dc_fast_num'].median())\n",
        "df_elec_filtered['ev_level1_evse_num'] = df_elec_filtered['ev_level1_evse_num'].fillna(df_elec_filtered['ev_level1_evse_num'].median())\n",
        "df_elec_filtered['ev_level2_evse_num'] = df_elec_filtered['ev_level2_evse_num'].fillna(df_elec_filtered['ev_level2_evse_num'].median())\n"
      ],
      "metadata": {
        "id": "wQSu73F-UzJ2"
      },
      "execution_count": null,
      "outputs": []
    },
    {
      "cell_type": "code",
      "source": [
        "# Import necessary libraries\n",
        "import pandas as pd\n",
        "from sklearn.cluster import KMeans\n",
        "from sklearn.preprocessing import StandardScaler\n",
        "\n",
        "# Load the data\n",
        "# Replace this with the actual data loading process\n",
        "# df_elec_filtered = pd.read_csv(\"your_data.csv\")\n",
        "\n",
        "# Define the input features and handle missing values\n",
        "features = ['latitude', 'longitude']\n",
        "df_elec_filtered = df_elec_filtered.dropna(subset=features)\n",
        "\n",
        "# Normalize the data\n",
        "scaler = StandardScaler()\n",
        "df_norm = pd.DataFrame(scaler.fit_transform(df_elec_filtered[features]), columns=features)\n",
        "\n",
        "# Train the KMeans model\n",
        "n_clusters = 10\n",
        "kmeans = KMeans(n_clusters=n_clusters, random_state=0).fit(df_norm)\n",
        "df_elec_filtered['cluster'] = kmeans.labels_\n",
        "\n",
        "def recommend_location(latitude, longitude):\n",
        "    location = pd.DataFrame({'latitude': [latitude], 'longitude': [longitude]})\n",
        "    location_norm = pd.DataFrame(scaler.transform(location), columns=features)\n",
        "    location_cluster = kmeans.predict(location_norm)[0]\n",
        "    cluster_stations = df_elec_filtered[df_elec_filtered['cluster'] == location_cluster]\n",
        "    cluster_stations['distance'] = ((cluster_stations['latitude'] - latitude)**2 + (cluster_stations['longitude'] - longitude)**2)**0.5\n",
        "    recommendations = cluster_stations.sort_values('distance').head(10)\n",
        "    return recommendations[['station_name', 'city', 'zip', 'ev_network', 'distance']]\n",
        "\n",
        "# Example usage\n",
        "existing_latitude = 37.7749\n",
        "existing_longitude = -122.4194\n",
        "recommendations = recommend_location(existing_latitude, existing_longitude)\n",
        "print(recommendations)\n"
      ],
      "metadata": {
        "colab": {
          "base_uri": "https://localhost:8080/"
        },
        "id": "eJRb5dyvQtQv",
        "outputId": "42b49aba-a9a3-4dc8-dcd7-b065af2cd663"
      },
      "execution_count": null,
      "outputs": [
        {
          "output_type": "stream",
          "name": "stderr",
          "text": [
            "/usr/local/lib/python3.9/dist-packages/sklearn/cluster/_kmeans.py:870: FutureWarning: The default value of `n_init` will change from 10 to 'auto' in 1.4. Set the value of `n_init` explicitly to suppress the warning\n",
            "  warnings.warn(\n"
          ]
        },
        {
          "output_type": "stream",
          "name": "stdout",
          "text": [
            "                         station_name           city    zip  \\\n",
            "11484             Treasure Island JCC  San Francisco  94130   \n",
            "5608   City of San Francisco - 49 SVN  San Francisco  94102   \n",
            "15103     HUDSON PACIFIC 1455 LOBBY 2  San Francisco  94103   \n",
            "15102     HUDSON PACIFIC 1455 LOBBY 1  San Francisco  94103   \n",
            "5762    HUDSON PACIFIC 1455 STATION 1  San Francisco  94103   \n",
            "5766    HUDSON PACIFIC 1455 STATION 2  San Francisco  94103   \n",
            "5759    HUDSON PACIFIC 1455 STATION 3  San Francisco  94103   \n",
            "5765    HUDSON PACIFIC 1455 STATION 4  San Francisco  94103   \n",
            "5760    HUDSON PACIFIC 1455 STATION 5  San Francisco  94103   \n",
            "5764    HUDSON PACIFIC 1455 STATION 6  San Francisco  94103   \n",
            "\n",
            "                ev_network  distance  \n",
            "11484        Non-Networked  0.000034  \n",
            "5608             POWERFLEX  0.001141  \n",
            "15103  ChargePoint Network  0.001457  \n",
            "15102  ChargePoint Network  0.001475  \n",
            "5762   ChargePoint Network  0.002140  \n",
            "5766   ChargePoint Network  0.002153  \n",
            "5759   ChargePoint Network  0.002162  \n",
            "5765   ChargePoint Network  0.002188  \n",
            "5760   ChargePoint Network  0.002196  \n",
            "5764   ChargePoint Network  0.002211  \n"
          ]
        },
        {
          "output_type": "stream",
          "name": "stderr",
          "text": [
            "<ipython-input-12-10e04c2968f8>:28: SettingWithCopyWarning: \n",
            "A value is trying to be set on a copy of a slice from a DataFrame.\n",
            "Try using .loc[row_indexer,col_indexer] = value instead\n",
            "\n",
            "See the caveats in the documentation: https://pandas.pydata.org/pandas-docs/stable/user_guide/indexing.html#returning-a-view-versus-a-copy\n",
            "  cluster_stations['distance'] = ((cluster_stations['latitude'] - latitude)**2 + (cluster_stations['longitude'] - longitude)**2)**0.5\n"
          ]
        }
      ]
    },
    {
      "cell_type": "code",
      "source": [],
      "metadata": {
        "id": "56OFJcXVwVqW"
      },
      "execution_count": null,
      "outputs": []
    }
  ]
}